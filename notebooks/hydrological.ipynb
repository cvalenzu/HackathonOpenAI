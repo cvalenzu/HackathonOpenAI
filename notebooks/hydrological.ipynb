{
 "cells": [
  {
   "cell_type": "code",
   "id": "3b8bca57-788b-4da0-9146-8121ebfede7a",
   "metadata": {
    "ExecuteTime": {
     "end_time": "2024-08-25T15:06:53.393928Z",
     "start_time": "2024-08-25T15:06:52.897451Z"
    }
   },
   "source": [
    "import geopandas\n",
    "from openai import OpenAI\n",
    "\n",
    "import os\n",
    "import wget\n",
    "import zipfile\n",
    "\n",
    "from dotenv import load_dotenv\n",
    "\n",
    "from hackathonopenai.hydrological import HydrologicalAssistant\n",
    "\n",
    "%load_ext autoreload\n",
    "%autoreload 2"
   ],
   "outputs": [],
   "execution_count": 1
  },
  {
   "cell_type": "code",
   "id": "efc2be68-c863-4ca3-9706-e8f111283a9a",
   "metadata": {
    "ExecuteTime": {
     "end_time": "2024-08-25T15:06:55.062602Z",
     "start_time": "2024-08-25T15:06:55.050845Z"
    }
   },
   "source": [
    "def download_hidro_data(\n",
    "        url_path: str = \"https://www.geoportal.cl/geoportal/catalog/download/5c781642-c351-3a15-bbb3-1e850ce3e52d\",\n",
    "        output_directory_base: str = \"../data/hidro\",\n",
    "        raw_data: str = '../data/raw',\n",
    "        name: str = \"data_hidro\"\n",
    ") -> str:\n",
    "    \"\"\"\n",
    "    Download the hidro data from the url_path and save it in the output_directory_base\n",
    "    \"\"\"\n",
    "    if not os.path.exists(output_directory_base):\n",
    "        os.makedirs(output_directory_base, exist_ok=True)\n",
    "\n",
    "    if not os.path.exists(raw_data):\n",
    "        os.makedirs(raw_data, exist_ok=True)\n",
    "\n",
    "    # Download the data\n",
    "    output_directory = wget.download(url_path, out=raw_data)\n",
    "    # Unzip the data\n",
    "    with zipfile.ZipFile(output_directory, 'r') as zip_ref:\n",
    "        zip_ref.extractall(output_directory_base)\n",
    "\n",
    "    for file in os.listdir(output_directory_base):\n",
    "        os.rename(\n",
    "            os.path.join(output_directory_base, file), \n",
    "            os.path.join(output_directory_base, name + os.path.splitext(file)[1])\n",
    "        )\n",
    "    return output_directory_base"
   ],
   "outputs": [],
   "execution_count": 2
  },
  {
   "cell_type": "code",
   "id": "25533948-8560-4f85-98c7-fe654d6d869f",
   "metadata": {
    "ExecuteTime": {
     "end_time": "2024-08-25T15:08:09.595215Z",
     "start_time": "2024-08-25T15:07:01.639297Z"
    }
   },
   "source": [
    "load_dotenv(\"../.env\")\n",
    "name = \"data_hidro\"\n",
    "output_directory_base = download_hidro_data(name=name)\n",
    "\n",
    "# Load files\n",
    "df = geopandas.read_file(\n",
    "    os.path.join(output_directory_base, name + \".shp\")\n",
    ")\n",
    "df_demo = geopandas.read_file(\n",
    "    \"../data/demo_data/doc.kml\"\n",
    ")"
   ],
   "outputs": [],
   "execution_count": 3
  },
  {
   "cell_type": "code",
   "execution_count": 5,
   "id": "349f4da4-ad75-4dd0-a1da-61e282ddc19c",
   "metadata": {},
   "outputs": [],
   "source": [
    "from shapely.ops import unary_union\n",
    "\n",
    "single_polygon = unary_union(df_demo.geometry)\n",
    "single_polygon_df = geopandas.GeoDataFrame(geometry=[single_polygon], crs=df_demo.crs)"
   ]
  },
  {
   "cell_type": "code",
   "execution_count": 6,
   "id": "f5abefec-4e87-460e-b850-efc6aa0c8223",
   "metadata": {},
   "outputs": [],
   "source": [
    "df_kms = df.to_crs(\"EPSG:32633\")\n",
    "demo_geometry_kms = single_polygon_df.to_crs(\"EPSG:32633\")"
   ]
  },
  {
   "cell_type": "code",
   "execution_count": 7,
   "id": "a1b93338-f13d-471a-87a1-ffd5ad0587b4",
   "metadata": {},
   "outputs": [],
   "source": [
    "df_kms = df_kms[~df_kms['nom_cuen'].astype(str).str.startswith('Isla')]"
   ]
  },
  {
   "cell_type": "code",
   "execution_count": 11,
   "id": "029edc58-8865-4d45-8ae5-4c6ff6bd40c9",
   "metadata": {},
   "outputs": [],
   "source": [
    "hydrological_assistant = HydrologicalAssistant(df_kms, OpenAI())"
   ]
  },
  {
   "cell_type": "code",
   "execution_count": 12,
   "id": "78aba33b-6a0c-43da-8669-a6839a258e78",
   "metadata": {},
   "outputs": [
    {
     "name": "stderr",
     "output_type": "stream",
     "text": [
      "/opt/miniconda3/envs/hackathon/lib/python3.12/site-packages/shapely/measurement.py:72: RuntimeWarning: invalid value encountered in distance\n",
      "  return lib.distance(a, b, **kwargs)\n"
     ]
    },
    {
     "name": "stdout",
     "output_type": "stream",
     "text": [
      "Numero de cuerpos de agua cercanos:  3\n"
     ]
    }
   ],
   "source": [
    "response = hydrological_assistant.evaluate_project(demo_geometry_kms)"
   ]
  },
  {
   "cell_type": "code",
   "execution_count": 14,
   "id": "44b61014-1eb5-4bca-88fb-d189ccee863e",
   "metadata": {},
   "outputs": [
    {
     "data": {
      "text/plain": [
       "{'summary': 'El proyecto fotovoltaico presenta impactos críticos debido a la intersección con cuerpos de agua, lo que podría resultar en la negativa del proyecto. Se recomienda modificar el polígono del proyecto para evitar la intersección con los cuerpos de agua o incurrir en permisos ambientales sectoriales.',\n",
       " 'detailed_impact_assessment': {'intersecting_water_bodies': [{'cod_cuen': '055',\n",
       "    'cod_subc': '0552',\n",
       "    'cod_ssubc': '05520',\n",
       "    'nom_cuen': 'Costeras entre Aconcagua y Maipo',\n",
       "    'nom_subc': 'E. Casablanca y E.  San Jeronimo (Incl.)',\n",
       "    'nom_ssubc': 'Costeras entre Estero Casablanca y Estero San Jeronimo (Incl.)',\n",
       "    'tipo_bcn': 'Quebrada',\n",
       "    'distance_in_mts': 0.0},\n",
       "   {'cod_cuen': '055',\n",
       "    'cod_subc': '0552',\n",
       "    'cod_ssubc': '05520',\n",
       "    'nom_cuen': 'Costeras entre Aconcagua y Maipo',\n",
       "    'nom_subc': 'E. Casablanca y E.  San Jeronimo (Incl.)',\n",
       "    'nom_ssubc': 'Costeras entre Estero Casablanca y Estero San Jeronimo (Incl.)',\n",
       "    'tipo_bcn': 'Quebrada',\n",
       "    'distance_in_mts': 0.0}],\n",
       "  'potential_impacts': {'ecological_impacts': ['Alteración de hábitats acuáticos y terrestres adyacentes.',\n",
       "    'Posible contaminación de cuerpos de agua por escorrentía de sedimentos y productos químicos durante la construcción y operación.',\n",
       "    'Alteración de la calidad del agua debido a la modificación del drenaje natural.'],\n",
       "   'social_impacts': ['Impacto en las comunidades locales que dependen de los cuerpos de agua para actividades recreativas y de subsistencia.',\n",
       "    'Posibles conflictos sociales debido a la percepción de riesgo ambiental.']},\n",
       "  'recommended_actions': ['Modificar el polígono del proyecto para evitar la intersección con los cuerpos de agua.',\n",
       "   'Realizar un estudio de impacto ambiental detallado que incluya un análisis de la calidad del agua y la biodiversidad en la zona.',\n",
       "   'Solicitar permisos ambientales sectoriales, incluyendo la evaluación de impacto ambiental (EIA) y permisos de uso de aguas.']}}"
      ]
     },
     "execution_count": 14,
     "metadata": {},
     "output_type": "execute_result"
    }
   ],
   "source": [
    "response"
   ]
  },
  {
   "cell_type": "code",
   "execution_count": null,
   "id": "7fb5021d-71da-42b9-91bb-7b73a31e6508",
   "metadata": {},
   "outputs": [],
   "source": []
  }
 ],
 "metadata": {
  "kernelspec": {
   "display_name": "Python 3 (ipykernel)",
   "language": "python",
   "name": "python3"
  },
  "language_info": {
   "codemirror_mode": {
    "name": "ipython",
    "version": 3
   },
   "file_extension": ".py",
   "mimetype": "text/x-python",
   "name": "python",
   "nbconvert_exporter": "python",
   "pygments_lexer": "ipython3",
   "version": "3.12.4"
  }
 },
 "nbformat": 4,
 "nbformat_minor": 5
}

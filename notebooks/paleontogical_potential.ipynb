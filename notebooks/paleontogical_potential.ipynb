{
 "cells": [
  {
   "cell_type": "code",
   "execution_count": 1,
   "id": "50167447-0c49-4649-bed7-3da1c997953d",
   "metadata": {},
   "outputs": [],
   "source": [
    "import geopandas\n",
    "from openai import OpenAI\n",
    "\n",
    "import os\n",
    "import wget\n",
    "import zipfile\n",
    "\n",
    "from dotenv import load_dotenv\n",
    "\n",
    "from hackathonopenai.paleontogical_potential import PaleontogicalPotentialAssistant\n",
    "\n",
    "%load_ext autoreload\n",
    "%autoreload 2"
   ]
  },
  {
   "cell_type": "code",
   "execution_count": 2,
   "id": "07e1f774-23d2-4d23-8d72-2d5484f2a7c5",
   "metadata": {},
   "outputs": [],
   "source": [
    "def download_paleontological_potential_data(\n",
    "        url_path: str = \"https://opendata.arcgis.com/datasets/bd874a0d01674a079a611263a463f97f_0.zip\",\n",
    "        output_directory_base: str = \"../data/potencial_paleontologico\",\n",
    "        raw_data: str = '../data/raw',\n",
    "        name: str = \"data_pot_paleon\"\n",
    ") -> str:\n",
    "    \"\"\"\n",
    "    Download the paleontological potential data from the url_path and save it in the output_directory_base\n",
    "    \"\"\"\n",
    "    if not os.path.exists(output_directory_base):\n",
    "        os.makedirs(output_directory_base, exist_ok=True)\n",
    "\n",
    "    if not os.path.exists(raw_data):\n",
    "        os.makedirs(raw_data, exist_ok=True)\n",
    "\n",
    "    # Download the data\n",
    "    output_directory = wget.download(url_path, out=raw_data)\n",
    "    # Unzip the data\n",
    "    with zipfile.ZipFile(output_directory, 'r') as zip_ref:\n",
    "        zip_ref.extractall(output_directory_base)\n",
    "\n",
    "    for file in os.listdir(output_directory_base):\n",
    "        os.rename(\n",
    "            os.path.join(output_directory_base, file), \n",
    "            os.path.join(output_directory_base, name + os.path.splitext(file)[1])\n",
    "        )\n",
    "    return output_directory_base"
   ]
  },
  {
   "cell_type": "code",
   "execution_count": null,
   "id": "6133cc40-35e5-4ef7-a67e-b4040aa53360",
   "metadata": {},
   "outputs": [],
   "source": []
  },
  {
   "cell_type": "code",
   "execution_count": 3,
   "id": "fbea021d-9688-4db6-9e8f-cc35fa402481",
   "metadata": {},
   "outputs": [
    {
     "name": "stdout",
     "output_type": "stream",
     "text": [
      "-1 / unknown"
     ]
    }
   ],
   "source": [
    "load_dotenv(\"../.env\")\n",
    "name = \"data_pot_paleon\"\n",
    "output_directory_base = download_paleontological_potential_data(name=name)\n",
    "\n",
    "# Load files\n",
    "df = geopandas.read_file(\n",
    "    os.path.join(output_directory_base, name + \".shp\")\n",
    ")\n",
    "df_demo = geopandas.read_file(\n",
    "    \"../data/demo_data/doc.kml\"\n",
    ")"
   ]
  },
  {
   "cell_type": "code",
   "execution_count": 4,
   "id": "0524f6f6-20dd-4167-bedb-e4b802a04d7e",
   "metadata": {},
   "outputs": [],
   "source": [
    "from shapely.ops import unary_union\n",
    "\n",
    "single_polygon = unary_union(df_demo.geometry)\n",
    "single_polygon_df = geopandas.GeoDataFrame(geometry=[single_polygon], crs=df_demo.crs)"
   ]
  },
  {
   "cell_type": "code",
   "execution_count": 6,
   "id": "bf353d28-b60b-48f6-ab4f-47cd6f1d3272",
   "metadata": {},
   "outputs": [],
   "source": [
    "df_kms = df.to_crs(\"EPSG:32633\")\n",
    "demo_geometry_kms = single_polygon_df.to_crs(\"EPSG:32633\")"
   ]
  },
  {
   "cell_type": "code",
   "execution_count": null,
   "id": "4c9c66b4-62fa-463c-bea5-e8298b02f375",
   "metadata": {},
   "outputs": [],
   "source": []
  },
  {
   "cell_type": "code",
   "execution_count": null,
   "id": "f3c91fc0-8b22-4a52-9f66-f7dd2a905175",
   "metadata": {},
   "outputs": [],
   "source": []
  },
  {
   "cell_type": "code",
   "execution_count": null,
   "id": "a06414de-6b4e-43f3-b41e-28edb004b9d7",
   "metadata": {},
   "outputs": [],
   "source": []
  },
  {
   "cell_type": "code",
   "execution_count": 9,
   "id": "37192b8a-8403-481b-a6dd-a18143ded0b2",
   "metadata": {},
   "outputs": [],
   "source": [
    "import json\n",
    "import geopandas \n",
    "import folium\n",
    "\n",
    "from openai import OpenAI\n",
    "from shapely.geometry import Polygon\n",
    "import streamlit as st"
   ]
  },
  {
   "cell_type": "code",
   "execution_count": 21,
   "id": "7f759456-4229-4918-af12-2e4ddf33e056",
   "metadata": {},
   "outputs": [],
   "source": [
    "class PaleontogicalPotentialAssistant:\n",
    "\n",
    "    def __init__(self, df: geopandas.GeoDataFrame, client: OpenAI):\n",
    "        self.df = df\n",
    "        self.client = client\n",
    "\n",
    "    def system_prompt(self) -> str:\n",
    "        \n",
    "        \n",
    "        system_prompt = \"\"\"\n",
    "        Eres un experto en potencial paleontologico y te han contratado para hacer la evaluación de impacto ambiental\n",
    "        de un nuevo proyecto fotovoltaico en Chile.\n",
    "\n",
    "        El usuario entregará su locacion y los suelos con detalle de potencial paleontologico con los cuales se solapa.\n",
    "\n",
    "        Tu trabajo es entregar una detallada evaluación de impacto ambiental del proyecto fotovoltaico en esta zona, tomando en cuenta el tipo de potencial.\n",
    "\n",
    "        Para esto primero vas a entregar un resumen si encuentras algo critico, para rechazar el proyecto, si no di que todo esta bien.\n",
    "\n",
    "        En caso de que encuentres algo critico, debes entregar una evaluación detallada de los impactos ambientales y sociales del proyecto.\n",
    "\n",
    "        El output será un JSON con dos campos\n",
    "        ```json\n",
    "        {\n",
    "            \"resumen\": Resumen corto de la evaluacion,\n",
    "            \"evaluacion\": Detalle de la evaluacion\n",
    "        }\n",
    "        ```\n",
    "        \"\"\"\n",
    "        return system_prompt\n",
    "\n",
    "    def format_message(self, overlap_zones: geopandas.GeoDataFrame) -> str:\n",
    "        overlap_zones_data = str(overlap_zones.to_dict(\"records\"))\n",
    "        message = \"\"\"\n",
    "        las zonas paleontologicas con las que se solapa el suelo son:\n",
    "        {overlap_zones}\n",
    "        \"\"\"\n",
    "        return message.replace(\"{overlap_zones}\", overlap_zones_data)\n",
    "\n",
    "\n",
    "    def evaluate_project(self, location: Polygon) -> dict:\n",
    "            overlap = self.df.geometry.overlaps(location.iloc[0].geometry)\n",
    "    \n",
    "            overlap_zones = self.df[ overlap == True]\n",
    "            \n",
    "            print(\"Numero de zonas solapadas: \", overlap_zones.shape[0])\n",
    "    \n",
    "            system_prompt = self.system_prompt()\n",
    "            message = self.format_message(overlap_zones)\n",
    "    \n",
    "            messages = [\n",
    "                {\"role\": \"system\", \"content\": system_prompt},\n",
    "                {\"role\": \"user\", \"content\": message}\n",
    "            ]\n",
    "            response = self.client.chat.completions.create(\n",
    "                model=\"gpt-4o-mini\",\n",
    "                messages=messages,\n",
    "                response_format={ \"type\": \"json_object\" },\n",
    "                temperature=0\n",
    "            )\n",
    "            return json.loads(response.choices[0].message.content)"
   ]
  },
  {
   "cell_type": "code",
   "execution_count": 23,
   "id": "7df8dd32-ae34-4352-b2fe-685d3f6d8afe",
   "metadata": {},
   "outputs": [],
   "source": [
    "paleontogical_assistant = PaleontogicalPotentialAssistant(df_kms, OpenAI(api_key=key))"
   ]
  },
  {
   "cell_type": "code",
   "execution_count": 24,
   "id": "c5df2d68-9831-488f-8cb2-141726ee59d1",
   "metadata": {},
   "outputs": [
    {
     "name": "stdout",
     "output_type": "stream",
     "text": [
      "Numero de zonas solapadas:  4\n"
     ]
    }
   ],
   "source": [
    "response = paleontogical_assistant.evaluate_project(demo_geometry_kms)"
   ]
  },
  {
   "cell_type": "code",
   "execution_count": 25,
   "id": "5310946d-92f0-43f6-ab7b-65c04b334ef2",
   "metadata": {},
   "outputs": [
    {
     "data": {
      "text/plain": [
       "{'resumen': 'El proyecto fotovoltaico se solapa con áreas de potencial paleontológico susceptible, lo que podría generar impactos negativos en el patrimonio paleontológico. Se recomienda una evaluación más detallada antes de proceder.',\n",
       " 'evaluacion': {'impactos_ambientales': {'paleontológicos': {'descripcion': \"Las áreas de 'Terrazas de abrasión' y 'Depósitos coluviales' tienen un potencial paleontológico susceptible, lo que indica que podrían contener restos fósiles o información geológica relevante. La construcción del proyecto podría dañar o destruir estos recursos.\",\n",
       "    'medidas_mitigacion': ['Realizar un estudio paleontológico previo a la construcción para identificar y documentar los recursos presentes.',\n",
       "     'Implementar un plan de manejo para la conservación de los hallazgos paleontológicos durante la construcción.',\n",
       "     'Establecer un protocolo de rescate de fósiles en caso de hallazgos durante las obras.']}},\n",
       "  'impactos_sociales': {'descripcion': 'La posible afectación de los recursos paleontológicos puede tener implicaciones en la identidad cultural y el patrimonio local, ya que estos recursos son parte del legado geológico y paleontológico de la región.',\n",
       "   'medidas_mitigacion': ['Involucrar a la comunidad local en el proceso de evaluación y manejo de los recursos paleontológicos.',\n",
       "    'Desarrollar programas de educación y sensibilización sobre la importancia del patrimonio paleontológico.']},\n",
       "  'conclusiones': 'Dada la presencia de áreas con potencial paleontológico susceptible, se recomienda realizar una evaluación más exhaustiva y considerar las medidas de mitigación antes de avanzar con el proyecto fotovoltaico.'}}"
      ]
     },
     "execution_count": 25,
     "metadata": {},
     "output_type": "execute_result"
    }
   ],
   "source": [
    "response"
   ]
  },
  {
   "cell_type": "code",
   "execution_count": null,
   "id": "202fc7ba-9a26-4c34-a3ab-b44391220a86",
   "metadata": {},
   "outputs": [],
   "source": []
  }
 ],
 "metadata": {
  "kernelspec": {
   "display_name": "Python 3 (ipykernel)",
   "language": "python",
   "name": "python3"
  },
  "language_info": {
   "codemirror_mode": {
    "name": "ipython",
    "version": 3
   },
   "file_extension": ".py",
   "mimetype": "text/x-python",
   "name": "python",
   "nbconvert_exporter": "python",
   "pygments_lexer": "ipython3",
   "version": "3.12.4"
  }
 },
 "nbformat": 4,
 "nbformat_minor": 5
}

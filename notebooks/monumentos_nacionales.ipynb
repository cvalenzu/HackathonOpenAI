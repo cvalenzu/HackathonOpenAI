{
 "cells": [
  {
   "cell_type": "code",
   "execution_count": 1,
   "metadata": {},
   "outputs": [],
   "source": [
    "import geopandas\n",
    "from openai import OpenAI\n",
    "\n",
    "import os\n",
    "import wget\n",
    "import zipfile\n",
    "\n",
    "from dotenv import load_dotenv\n",
    "\n",
    "from hackathonopenai.national_monuments import NationalMonumentsAssistant\n",
    "\n",
    "%load_ext autoreload\n",
    "%autoreload 2"
   ]
  },
  {
   "cell_type": "code",
   "execution_count": 2,
   "metadata": {},
   "outputs": [],
   "source": [
    "\n",
    "def download_national_parks_data(\n",
    "        url_path: str = \"https://opendata.arcgis.com/datasets/beb04b0e5bed44da9e5407ea50477a5c_0.zip\",\n",
    "        output_directory_base: str = \"../data/parques_nacionales\",\n",
    "        raw_data: str = '../data/raw',\n",
    "        name: str = \"data_parques\"\n",
    ") -> str:\n",
    "    \"\"\"\n",
    "    Download the national parks data from the url_path and save it in the output_directory_base\n",
    "    \"\"\"\n",
    "    if not os.path.exists(output_directory_base):\n",
    "        os.makedirs(output_directory_base, exist_ok=True)\n",
    "\n",
    "    if not os.path.exists(raw_data):\n",
    "        os.makedirs(raw_data, exist_ok=True)\n",
    "\n",
    "    # Download the data\n",
    "    output_directory = wget.download(url_path, out=raw_data)\n",
    "    # Unzip the data\n",
    "    with zipfile.ZipFile(output_directory, 'r') as zip_ref:\n",
    "        zip_ref.extractall(output_directory_base)\n",
    "\n",
    "    for file in os.listdir(output_directory_base):\n",
    "        os.rename(\n",
    "            os.path.join(output_directory_base, file), \n",
    "            os.path.join(output_directory_base, name + os.path.splitext(file)[1])\n",
    "        )\n",
    "    return output_directory_base"
   ]
  },
  {
   "cell_type": "code",
   "execution_count": 3,
   "metadata": {},
   "outputs": [],
   "source": [
    "load_dotenv(\"../.env\")\n",
    "\n",
    "name = \"data_parques\"\n",
    "output_directory_base = download_national_parks_data(name=name)\n",
    "\n",
    "# Load files\n",
    "df = geopandas.read_file(\n",
    "    os.path.join(output_directory_base, name + \".shp\")\n",
    ")\n",
    "df_demo = geopandas.read_file(\n",
    "    \"../data/demo_data/doc.kml\"\n",
    ")"
   ]
  },
  {
   "cell_type": "code",
   "execution_count": 4,
   "metadata": {},
   "outputs": [],
   "source": [
    "from shapely.ops import unary_union\n",
    "\n",
    "single_polygon = unary_union(df_demo.geometry)\n",
    "single_polygon_df = geopandas.GeoDataFrame(geometry=[single_polygon], crs=df_demo.crs)"
   ]
  },
  {
   "cell_type": "code",
   "execution_count": 5,
   "metadata": {},
   "outputs": [
    {
     "data": {
      "text/html": [
       "<div>\n",
       "<style scoped>\n",
       "    .dataframe tbody tr th:only-of-type {\n",
       "        vertical-align: middle;\n",
       "    }\n",
       "\n",
       "    .dataframe tbody tr th {\n",
       "        vertical-align: top;\n",
       "    }\n",
       "\n",
       "    .dataframe thead th {\n",
       "        text-align: right;\n",
       "    }\n",
       "</style>\n",
       "<table border=\"1\" class=\"dataframe\">\n",
       "  <thead>\n",
       "    <tr style=\"text-align: right;\">\n",
       "      <th></th>\n",
       "      <th>geometry</th>\n",
       "    </tr>\n",
       "  </thead>\n",
       "  <tbody>\n",
       "    <tr>\n",
       "      <th>0</th>\n",
       "      <td>POLYGON Z ((-71.4334 -33.29117 0, -71.4336 -33...</td>\n",
       "    </tr>\n",
       "  </tbody>\n",
       "</table>\n",
       "</div>"
      ],
      "text/plain": [
       "                                            geometry\n",
       "0  POLYGON Z ((-71.4334 -33.29117 0, -71.4336 -33..."
      ]
     },
     "execution_count": 5,
     "metadata": {},
     "output_type": "execute_result"
    }
   ],
   "source": [
    "single_polygon_df"
   ]
  },
  {
   "cell_type": "code",
   "execution_count": 6,
   "metadata": {},
   "outputs": [],
   "source": [
    "df_kms = df.to_crs(\"EPSG:32633\")\n",
    "demo_geometry_kms = df_demo.to_crs(\"EPSG:32633\")"
   ]
  },
  {
   "cell_type": "code",
   "execution_count": 7,
   "metadata": {},
   "outputs": [],
   "source": [
    "park_assistant = NationalMonumentsAssistant(df_kms, OpenAI())"
   ]
  },
  {
   "cell_type": "code",
   "execution_count": 30,
   "metadata": {},
   "outputs": [
    {
     "name": "stdout",
     "output_type": "stream",
     "text": [
      "Numero de parques cercanos:  0\n"
     ]
    }
   ],
   "source": [
    "response = park_assistant.evaluate_project(demo_geometry_kms, threshold_in_kilometers=10)"
   ]
  },
  {
   "cell_type": "code",
   "execution_count": 31,
   "metadata": {},
   "outputs": [],
   "source": [
    "close_parks = response[\"close_parks\"]"
   ]
  },
  {
   "cell_type": "code",
   "execution_count": 42,
   "metadata": {},
   "outputs": [
    {
     "name": "stderr",
     "output_type": "stream",
     "text": [
      "/var/folders/yz/zfvnc9qs3557ss5cr7wv0c8xvzxvfn/T/ipykernel_58843/776072422.py:7: UserWarning: Geometry is in a geographic CRS. Results from 'centroid' are likely incorrect. Use 'GeoSeries.to_crs()' to re-project geometries to a projected CRS before this operation.\n",
      "\n",
      "  centroid = location.centroid.iloc[0]\n"
     ]
    },
    {
     "data": {
      "text/plain": [
       "<folium.features.GeoJson at 0x159d99640>"
      ]
     },
     "execution_count": 42,
     "metadata": {},
     "output_type": "execute_result"
    }
   ],
   "source": [
    "import folium\n",
    "location = demo_geometry_kms\n",
    "\n",
    "location.to_crs(\"EPSG:4326\", inplace=True)\n",
    "close_parks.to_crs(\"EPSG:4326\", inplace=True)\n",
    "\n",
    "centroid = location.centroid.iloc[0]\n",
    "center = [centroid.y, centroid.x]\n",
    "\n",
    "mapa = folium.Map(location=center, zoom_start=12)\n",
    "# Agregar los polígonos al mapa\n",
    "folium.GeoJson(\n",
    "    close_parks[['NOMBRE','geometry']],\n",
    "    style_function=lambda x: {\n",
    "        \"fillColor\": \"red\",\n",
    "        \"color\": \"black\",\n",
    "        \"weight\": 2.5,\n",
    "        \"fillOpacity\": 0.5,\n",
    "        \"tooltip\": x[\"properties\"][\"NOMBRE\"],\n",
    "    },\n",
    ").add_to(mapa)\n",
    "\n",
    "folium.GeoJson(\n",
    "    location,\n",
    "    style_function=lambda x: {\n",
    "        \"fillColor\": \"blue\",\n",
    "        \"color\": \"black\",\n",
    "        \"weight\": 2.5,\n",
    "        \"fillOpacity\": 0.5,\n",
    "    },\n",
    ").add_to(mapa)"
   ]
  },
  {
   "cell_type": "code",
   "execution_count": 43,
   "metadata": {},
   "outputs": [
    {
     "data": {
      "text/html": [
       "<div style=\"width:100%;\"><div style=\"position:relative;width:100%;height:0;padding-bottom:60%;\"><span style=\"color:#565656\">Make this Notebook Trusted to load map: File -> Trust Notebook</span><iframe srcdoc=\"&lt;!DOCTYPE html&gt;\n",
       "&lt;html&gt;\n",
       "&lt;head&gt;\n",
       "    \n",
       "    &lt;meta http-equiv=&quot;content-type&quot; content=&quot;text/html; charset=UTF-8&quot; /&gt;\n",
       "    \n",
       "        &lt;script&gt;\n",
       "            L_NO_TOUCH = false;\n",
       "            L_DISABLE_3D = false;\n",
       "        &lt;/script&gt;\n",
       "    \n",
       "    &lt;style&gt;html, body {width: 100%;height: 100%;margin: 0;padding: 0;}&lt;/style&gt;\n",
       "    &lt;style&gt;#map {position:absolute;top:0;bottom:0;right:0;left:0;}&lt;/style&gt;\n",
       "    &lt;script src=&quot;https://cdn.jsdelivr.net/npm/leaflet@1.9.3/dist/leaflet.js&quot;&gt;&lt;/script&gt;\n",
       "    &lt;script src=&quot;https://code.jquery.com/jquery-3.7.1.min.js&quot;&gt;&lt;/script&gt;\n",
       "    &lt;script src=&quot;https://cdn.jsdelivr.net/npm/bootstrap@5.2.2/dist/js/bootstrap.bundle.min.js&quot;&gt;&lt;/script&gt;\n",
       "    &lt;script src=&quot;https://cdnjs.cloudflare.com/ajax/libs/Leaflet.awesome-markers/2.0.2/leaflet.awesome-markers.js&quot;&gt;&lt;/script&gt;\n",
       "    &lt;link rel=&quot;stylesheet&quot; href=&quot;https://cdn.jsdelivr.net/npm/leaflet@1.9.3/dist/leaflet.css&quot;/&gt;\n",
       "    &lt;link rel=&quot;stylesheet&quot; href=&quot;https://cdn.jsdelivr.net/npm/bootstrap@5.2.2/dist/css/bootstrap.min.css&quot;/&gt;\n",
       "    &lt;link rel=&quot;stylesheet&quot; href=&quot;https://netdna.bootstrapcdn.com/bootstrap/3.0.0/css/bootstrap-glyphicons.css&quot;/&gt;\n",
       "    &lt;link rel=&quot;stylesheet&quot; href=&quot;https://cdn.jsdelivr.net/npm/@fortawesome/fontawesome-free@6.2.0/css/all.min.css&quot;/&gt;\n",
       "    &lt;link rel=&quot;stylesheet&quot; href=&quot;https://cdnjs.cloudflare.com/ajax/libs/Leaflet.awesome-markers/2.0.2/leaflet.awesome-markers.css&quot;/&gt;\n",
       "    &lt;link rel=&quot;stylesheet&quot; href=&quot;https://cdn.jsdelivr.net/gh/python-visualization/folium/folium/templates/leaflet.awesome.rotate.min.css&quot;/&gt;\n",
       "    \n",
       "            &lt;meta name=&quot;viewport&quot; content=&quot;width=device-width,\n",
       "                initial-scale=1.0, maximum-scale=1.0, user-scalable=no&quot; /&gt;\n",
       "            &lt;style&gt;\n",
       "                #map_da44c7d8bfef87757e964860b01a2ff5 {\n",
       "                    position: relative;\n",
       "                    width: 100.0%;\n",
       "                    height: 100.0%;\n",
       "                    left: 0.0%;\n",
       "                    top: 0.0%;\n",
       "                }\n",
       "                .leaflet-container { font-size: 1rem; }\n",
       "            &lt;/style&gt;\n",
       "        \n",
       "&lt;/head&gt;\n",
       "&lt;body&gt;\n",
       "    \n",
       "    \n",
       "            &lt;div class=&quot;folium-map&quot; id=&quot;map_da44c7d8bfef87757e964860b01a2ff5&quot; &gt;&lt;/div&gt;\n",
       "        \n",
       "&lt;/body&gt;\n",
       "&lt;script&gt;\n",
       "    \n",
       "    \n",
       "            var map_da44c7d8bfef87757e964860b01a2ff5 = L.map(\n",
       "                &quot;map_da44c7d8bfef87757e964860b01a2ff5&quot;,\n",
       "                {\n",
       "                    center: [-33.296591962186675, -71.44458172831553],\n",
       "                    crs: L.CRS.EPSG3857,\n",
       "                    zoom: 12,\n",
       "                    zoomControl: true,\n",
       "                    preferCanvas: false,\n",
       "                }\n",
       "            );\n",
       "\n",
       "            \n",
       "\n",
       "        \n",
       "    \n",
       "            var tile_layer_f2f22f8286cab8115cea1a51ce21c952 = L.tileLayer(\n",
       "                &quot;https://tile.openstreetmap.org/{z}/{x}/{y}.png&quot;,\n",
       "                {&quot;attribution&quot;: &quot;\\u0026copy; \\u003ca href=\\&quot;https://www.openstreetmap.org/copyright\\&quot;\\u003eOpenStreetMap\\u003c/a\\u003e contributors&quot;, &quot;detectRetina&quot;: false, &quot;maxNativeZoom&quot;: 19, &quot;maxZoom&quot;: 19, &quot;minZoom&quot;: 0, &quot;noWrap&quot;: false, &quot;opacity&quot;: 1, &quot;subdomains&quot;: &quot;abc&quot;, &quot;tms&quot;: false}\n",
       "            );\n",
       "        \n",
       "    \n",
       "            tile_layer_f2f22f8286cab8115cea1a51ce21c952.addTo(map_da44c7d8bfef87757e964860b01a2ff5);\n",
       "        \n",
       "    \n",
       "        function geo_json_c0f8045a3fc71af266509e47d0723a97_styler(feature) {\n",
       "            switch(feature.id) {\n",
       "                default:\n",
       "                    return ;\n",
       "            }\n",
       "        }\n",
       "\n",
       "        function geo_json_c0f8045a3fc71af266509e47d0723a97_onEachFeature(feature, layer) {\n",
       "            layer.on({\n",
       "            });\n",
       "        };\n",
       "        var geo_json_c0f8045a3fc71af266509e47d0723a97 = L.geoJson(null, {\n",
       "                onEachFeature: geo_json_c0f8045a3fc71af266509e47d0723a97_onEachFeature,\n",
       "            \n",
       "                style: geo_json_c0f8045a3fc71af266509e47d0723a97_styler,\n",
       "        });\n",
       "\n",
       "        function geo_json_c0f8045a3fc71af266509e47d0723a97_add (data) {\n",
       "            geo_json_c0f8045a3fc71af266509e47d0723a97\n",
       "                .addData(data);\n",
       "        }\n",
       "            geo_json_c0f8045a3fc71af266509e47d0723a97_add({&quot;bbox&quot;: [NaN, NaN, NaN, NaN], &quot;features&quot;: [], &quot;type&quot;: &quot;FeatureCollection&quot;});\n",
       "\n",
       "        \n",
       "    \n",
       "            geo_json_c0f8045a3fc71af266509e47d0723a97.addTo(map_da44c7d8bfef87757e964860b01a2ff5);\n",
       "        \n",
       "    \n",
       "        function geo_json_1c4ae97088f9dffdb02df8786ce8536b_styler(feature) {\n",
       "            switch(feature.id) {\n",
       "                default:\n",
       "                    return {&quot;color&quot;: &quot;black&quot;, &quot;fillColor&quot;: &quot;blue&quot;, &quot;fillOpacity&quot;: 0.5, &quot;weight&quot;: 2.5};\n",
       "            }\n",
       "        }\n",
       "\n",
       "        function geo_json_1c4ae97088f9dffdb02df8786ce8536b_onEachFeature(feature, layer) {\n",
       "            layer.on({\n",
       "            });\n",
       "        };\n",
       "        var geo_json_1c4ae97088f9dffdb02df8786ce8536b = L.geoJson(null, {\n",
       "                onEachFeature: geo_json_1c4ae97088f9dffdb02df8786ce8536b_onEachFeature,\n",
       "            \n",
       "                style: geo_json_1c4ae97088f9dffdb02df8786ce8536b_styler,\n",
       "        });\n",
       "\n",
       "        function geo_json_1c4ae97088f9dffdb02df8786ce8536b_add (data) {\n",
       "            geo_json_1c4ae97088f9dffdb02df8786ce8536b\n",
       "                .addData(data);\n",
       "        }\n",
       "            geo_json_1c4ae97088f9dffdb02df8786ce8536b_add({&quot;bbox&quot;: [-71.45418715498137, -33.3083329389934, -71.43339701698126, -33.290074421993396], &quot;features&quot;: [{&quot;bbox&quot;: [-71.45418715498137, -33.3083329389934, -71.43339701698126, -33.290074421993396], &quot;geometry&quot;: {&quot;coordinates&quot;: [[[[-71.43339701698126, -33.291168941993384, 0.0], [-71.43360309798126, -33.290830693993364, 0.0], [-71.43438047298127, -33.29055514399338, 0.0], [-71.4365877659813, -33.290074421993396, 0.0], [-71.43735791798136, -33.29008629199338, 0.0], [-71.43800286498133, -33.29017935499336, 0.0], [-71.4388504299813, -33.290511247993365, 0.0], [-71.44228348798133, -33.291114556993364, 0.0], [-71.44432914498127, -33.2909518359933, 0.0], [-71.44415808898131, -33.29130710899328, 0.0], [-71.44557084098129, -33.291341024993336, 0.0], [-71.4455659709813, -33.29143578899328, 0.0], [-71.44674402598135, -33.2914466929933, 0.0], [-71.44672766898134, -33.29173632599336, 0.0], [-71.44668541798127, -33.29171700199336, 0.0], [-71.44648659898128, -33.29179945999325, 0.0], [-71.44639815698136, -33.29292853699332, 0.0], [-71.4458267979813, -33.293906468993335, 0.0], [-71.44824126998135, -33.29463777699326, 0.0], [-71.44843476798138, -33.29461973599328, 0.0], [-71.44853417798136, -33.29457292699329, 0.0], [-71.44864874198134, -33.29438487699326, 0.0], [-71.44916855098135, -33.29416464599328, 0.0], [-71.44949968998138, -33.29311428399332, 0.0], [-71.45044456998133, -33.29322495599335, 0.0], [-71.45114825298137, -33.29304877199329, 0.0], [-71.4515780019813, -33.29299705499328, 0.0], [-71.45305031798138, -33.29424187499326, 0.0], [-71.4531247179814, -33.29449408299323, 0.0], [-71.45337631698136, -33.29444173699325, 0.0], [-71.45370674198129, -33.29411208099324, 0.0], [-71.45418715498137, -33.29421502899324, 0.0], [-71.45401431798133, -33.29426583999328, 0.0], [-71.45396532298139, -33.29462959199326, 0.0], [-71.45382098898136, -33.29503425999326, 0.0], [-71.45374584498137, -33.29531184599322, 0.0], [-71.45374367198136, -33.295912843993236, 0.0], [-71.45370665698132, -33.2962262159933, 0.0], [-71.45359845998136, -33.29658000299324, 0.0], [-71.45343606598134, -33.2968562949933, 0.0], [-71.4529057269814, -33.297531415993284, 0.0], [-71.45247256298136, -33.29778341899325, 0.0], [-71.45237800098137, -33.29785741899329, 0.0], [-71.45221235698132, -33.29807708899324, 0.0], [-71.45190897198137, -33.29836259399332, 0.0], [-71.45169118298136, -33.298637392993335, 0.0], [-71.45148235898135, -33.29884889799332, 0.0], [-71.45135660998133, -33.29895957899336, 0.0], [-71.45118089398134, -33.29913093599331, 0.0], [-71.4506930319814, -33.29903579099327, 0.0], [-71.45061744198135, -33.29630225999328, 0.0], [-71.44504621198132, -33.29524247499329, 0.0], [-71.44460515298134, -33.295963867993294, 0.0], [-71.44322478998133, -33.29575939799337, 0.0], [-71.44272830398131, -33.29642457699333, 0.0], [-71.44278258598138, -33.29761591699331, 0.0], [-71.44671797398138, -33.29836805299326, 0.0], [-71.45074845398133, -33.29909781399323, 0.0], [-71.45077142898141, -33.299151459993325, 0.0], [-71.45071031898132, -33.299269882993265, 0.0], [-71.45046702798136, -33.299400915993274, 0.0], [-71.45008876398141, -33.29969691099333, 0.0], [-71.44991137198137, -33.29988074299328, 0.0], [-71.44957008798139, -33.30034732399333, 0.0], [-71.4491933299814, -33.300697386993335, 0.0], [-71.44862077198138, -33.3009360429933, 0.0], [-71.44844348198139, -33.30114496999329, 0.0], [-71.44814158498141, -33.30148453799329, 0.0], [-71.44804827498143, -33.30160359299338, 0.0], [-71.44798690798142, -33.30171300299336, 0.0], [-71.4471225599814, -33.30284177099333, 0.0], [-71.44699315198137, -33.303252193993366, 0.0], [-71.44699070398144, -33.303257292993344, 0.0], [-71.44669463598143, -33.303884429993374, 0.0], [-71.44666018698143, -33.30401540299327, 0.0], [-71.44656981498143, -33.30464227099337, 0.0], [-71.44637028398141, -33.305062711993344, 0.0], [-71.44609225298146, -33.30538404299329, 0.0], [-71.44583049398136, -33.3056236309933, 0.0], [-71.44566481998143, -33.305843293993355, 0.0], [-71.44537287398141, -33.30615560899336, 0.0], [-71.44444997798148, -33.30690467399334, 0.0], [-71.44411040898142, -33.30709114299343, 0.0], [-71.44360228598146, -33.30753166299337, 0.0], [-71.44317061198136, -33.307941657993375, 0.0], [-71.44314652298142, -33.30794844399339, 0.0], [-71.44309267298144, -33.307996533993354, 0.0], [-71.44301877198144, -33.30813898899336, 0.0], [-71.44302193498142, -33.3082523539933, 0.0], [-71.44289885098138, -33.3083329389934, 0.0], [-71.44288561198145, -33.308131831993364, 0.0], [-71.44294274798143, -33.30796168399333, 0.0], [-71.44293081698143, -33.30660811699332, 0.0], [-71.4430239359814, -33.305868222993325, 0.0], [-71.4430543599814, -33.30300301799338, 0.0], [-71.44305282298139, -33.30212471599336, 0.0], [-71.44317608198143, -33.30120290999338, 0.0], [-71.44322034898136, -33.300961640993314, 0.0], [-71.4432511289814, -33.300652154993365, 0.0], [-71.44421940598133, -33.300846923993404, 0.0], [-71.44609344898142, -33.30071384199331, 0.0], [-71.44653851898137, -33.29904211899336, 0.0], [-71.44653453298137, -33.299040950493314, 0.0], [-71.44396220698134, -33.29828663499327, 0.0], [-71.44349066798142, -33.298725470993276, 0.0], [-71.4392708569813, -33.29784074299329, 0.0], [-71.4395851839813, -33.29756514099331, 0.0], [-71.44040069898135, -33.29723622499336, 0.0], [-71.44097939398137, -33.2973622249934, 0.0], [-71.44135436298129, -33.29596548399337, 0.0], [-71.44198113798136, -33.295641642993296, 0.0], [-71.44224421398138, -33.29472410599333, 0.0], [-71.43689644798127, -33.293662809993386, 0.0], [-71.43645088598136, -33.29357926199339, 0.0], [-71.43640969398132, -33.2921141469933, 0.0], [-71.43627695998136, -33.292102186993404, 0.0], [-71.43600752898128, -33.29201605899337, 0.0], [-71.43580945298132, -33.29206494399335, 0.0], [-71.43567036798126, -33.292022774993406, 0.0], [-71.43563269298122, -33.29193670799338, 0.0], [-71.4356161979813, -33.29190338699338, 0.0], [-71.43548686998135, -33.29164201399334, 0.0], [-71.43544742498129, -33.291635003993385, 0.0], [-71.43540111798127, -33.29171143199331, 0.0], [-71.43548176698128, -33.2919980229934, 0.0], [-71.43504060298127, -33.29194961499338, 0.0], [-71.43484360298125, -33.292068936993395, 0.0], [-71.43463554998125, -33.292081008993364, 0.0], [-71.4344495839812, -33.292054372993356, 0.0], [-71.43432578898128, -33.29193764399341, 0.0], [-71.43395816098133, -33.29179499299342, 0.0], [-71.43389925698126, -33.29186356599338, 0.0], [-71.43370266898124, -33.29185638299342, 0.0], [-71.43362921698129, -33.29185369899337, 0.0], [-71.43339701698126, -33.291168941993384, 0.0]]]], &quot;type&quot;: &quot;MultiPolygon&quot;}, &quot;id&quot;: &quot;0&quot;, &quot;properties&quot;: {&quot;Description&quot;: &quot;\\u003chtml xmlns:fo=\\&quot;http://www.w3.org/1999/XSL/Format\\&quot; xmlns:msxsl=\\&quot;urn:schemas-microsoft-com:xslt\\&quot;\\u003e \\u003chead\\u003e \\u003cMETA http-equiv=\\&quot;Content-Type\\&quot; content=\\&quot;text/html\\&quot;\\u003e \\u003cmeta http-equiv=\\&quot;content-type\\&quot; content=\\&quot;text/html; charset=UTF-8\\&quot;\\u003e \\u003c/head\\u003e \\u003cbody style=\\&quot;margin:0px 0px 0px 0px;overflow:auto;background:#FFFFFF;\\&quot;\\u003e \\u003ctable style=\\&quot;font-family:Arial,Verdana,Times;font-size:12px;text-align:left;width:100%;border-collapse:collapse;padding:3px 3px 3px 3px\\&quot;\\u003e \\u003ctr style=\\&quot;text-align:center;font-weight:bold;background:#9CBCE2\\&quot;\\u003e \\u003ctd\\u003e0\\u003c/td\\u003e \\u003c/tr\\u003e \\u003ctr\\u003e \\u003ctd\\u003e \\u003ctable style=\\&quot;font-family:Arial,Verdana,Times;font-size:12px;text-align:left;width:100%;border-spacing:0px; padding:3px 3px 3px 3px\\&quot;\\u003e \\u003ctr\\u003e \\u003ctd\\u003eFID\\u003c/td\\u003e \\u003ctd\\u003e0\\u003c/td\\u003e \\u003c/tr\\u003e \\u003ctr bgcolor=\\&quot;#D4E4F3\\&quot;\\u003e \\u003ctd\\u003eId\\u003c/td\\u003e \\u003ctd\\u003e0\\u003c/td\\u003e \\u003c/tr\\u003e \\u003ctr\\u003e \\u003ctd\\u003eX\\u003c/td\\u003e \\u003ctd\\u003e272376,838457\\u003c/td\\u003e \\u003c/tr\\u003e \\u003ctr bgcolor=\\&quot;#D4E4F3\\&quot;\\u003e \\u003ctd\\u003eY\\u003c/td\\u003e \\u003ctd\\u003e6313165,34471\\u003c/td\\u003e \\u003c/tr\\u003e \\u003ctr\\u003e \\u003ctd\\u003eSup_m2\\u003c/td\\u003e \\u003ctd\\u003e1086562,74708\\u003c/td\\u003e \\u003c/tr\\u003e \\u003c/table\\u003e \\u003c/td\\u003e \\u003c/tr\\u003e \\u003c/table\\u003e \\u003c/body\\u003e \\u003c/html\\u003e&quot;, &quot;Name&quot;: &quot;0&quot;}, &quot;type&quot;: &quot;Feature&quot;}], &quot;type&quot;: &quot;FeatureCollection&quot;});\n",
       "\n",
       "        \n",
       "    \n",
       "            geo_json_1c4ae97088f9dffdb02df8786ce8536b.addTo(map_da44c7d8bfef87757e964860b01a2ff5);\n",
       "        \n",
       "&lt;/script&gt;\n",
       "&lt;/html&gt;\" style=\"position:absolute;width:100%;height:100%;left:0;top:0;border:none !important;\" allowfullscreen webkitallowfullscreen mozallowfullscreen></iframe></div></div>"
      ],
      "text/plain": [
       "<folium.folium.Map at 0x159d9afc0>"
      ]
     },
     "execution_count": 43,
     "metadata": {},
     "output_type": "execute_result"
    }
   ],
   "source": [
    "mapa"
   ]
  },
  {
   "cell_type": "code",
   "execution_count": null,
   "metadata": {},
   "outputs": [],
   "source": []
  }
 ],
 "metadata": {
  "kernelspec": {
   "display_name": "Python 3 (ipykernel)",
   "language": "python",
   "name": "python3"
  },
  "language_info": {
   "codemirror_mode": {
    "name": "ipython",
    "version": 3
   },
   "file_extension": ".py",
   "mimetype": "text/x-python",
   "name": "python",
   "nbconvert_exporter": "python",
   "pygments_lexer": "ipython3",
   "version": "3.12.4"
  }
 },
 "nbformat": 4,
 "nbformat_minor": 4
}

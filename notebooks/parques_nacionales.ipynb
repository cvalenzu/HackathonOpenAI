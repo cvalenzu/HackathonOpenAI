{
 "cells": [
  {
   "cell_type": "code",
   "execution_count": 44,
   "metadata": {},
   "outputs": [],
   "source": [
    "import geopandas\n",
    "from shapely import Polygon\n",
    "\n",
    "\n",
    "import os\n",
    "import wget\n",
    "import zipfile\n",
    "\n",
    "\n",
    "from openai import OpenAI"
   ]
  },
  {
   "cell_type": "code",
   "execution_count": 7,
   "metadata": {},
   "outputs": [],
   "source": [
    "\n",
    "def download_national_parks_data(\n",
    "        url_path: str = \"https://opendata.arcgis.com/datasets/beb04b0e5bed44da9e5407ea50477a5c_0.zip\",\n",
    "        output_directory_base: str = \"../data/parques_nacionales\",\n",
    "        raw_data: str = '../data/raw',\n",
    "        name: str = \"data_parques\"\n",
    ") -> str:\n",
    "    \"\"\"\n",
    "    Download the national parks data from the url_path and save it in the output_directory_base\n",
    "    \"\"\"\n",
    "    if not os.path.exists(output_directory_base):\n",
    "        os.makedirs(output_directory_base, exist_ok=True)\n",
    "\n",
    "    if not os.path.exists(raw_data):\n",
    "        os.makedirs(raw_data, exist_ok=True)\n",
    "\n",
    "    # Download the data\n",
    "    output_directory = wget.download(url_path, out=raw_data)\n",
    "    # Unzip the data\n",
    "    with zipfile.ZipFile(output_directory, 'r') as zip_ref:\n",
    "        zip_ref.extractall(output_directory_base)\n",
    "\n",
    "    for file in os.listdir(output_directory_base):\n",
    "        os.rename(\n",
    "            os.path.join(output_directory_base, file), \n",
    "            os.path.join(output_directory_base, name + os.path.splitext(file)[1])\n",
    "        )\n",
    "    return output_directory_base"
   ]
  },
  {
   "cell_type": "code",
   "execution_count": 8,
   "metadata": {},
   "outputs": [],
   "source": [
    "name = \"data_parques\"\n",
    "output_directory_base = download_national_parks_data(name=name)\n",
    "\n",
    "# Load files\n",
    "df = geopandas.read_file(\n",
    "    os.path.join(output_directory_base, name + \".shp\")\n",
    ")"
   ]
  },
  {
   "cell_type": "code",
   "execution_count": 36,
   "metadata": {},
   "outputs": [],
   "source": [
    "df_demo = geopandas.read_file(\n",
    "    \"../data/demo_data/doc.kml\"\n",
    ")"
   ]
  },
  {
   "cell_type": "code",
   "execution_count": 78,
   "metadata": {},
   "outputs": [],
   "source": [
    "df_kms = df.to_crs(\"EPSG:32633\")\n",
    "demo_geometry_kms = df.to_crs(\"EPSG:32633\")"
   ]
  },
  {
   "cell_type": "code",
   "execution_count": 85,
   "metadata": {},
   "outputs": [],
   "source": [
    "distance = df_kms.geometry.distance(demo_geometry_kms.iloc[0].geometry)/1000"
   ]
  },
  {
   "cell_type": "code",
   "execution_count": 86,
   "metadata": {},
   "outputs": [
    {
     "data": {
      "text/plain": [
       "0         0.000000\n",
       "1      1600.414581\n",
       "2      3896.123523\n",
       "3      3175.903880\n",
       "4       135.100850\n",
       "          ...     \n",
       "636    2006.109524\n",
       "637      97.955376\n",
       "638     100.572776\n",
       "639     182.414866\n",
       "640    3274.280964\n",
       "Length: 641, dtype: float64"
      ]
     },
     "execution_count": 86,
     "metadata": {},
     "output_type": "execute_result"
    }
   ],
   "source": [
    "distance"
   ]
  },
  {
   "cell_type": "code",
   "execution_count": 81,
   "metadata": {},
   "outputs": [
    {
     "data": {
      "text/plain": [
       "<Axes: >"
      ]
     },
     "execution_count": 81,
     "metadata": {},
     "output_type": "execute_result"
    },
    {
     "data": {
      "image/png": "[encoded data removed]",
      "text/plain": [
       "<Figure size 1000x1000 with 1 Axes>"
      ]
     },
     "metadata": {},
     "output_type": "display_data"
    }
   ],
   "source": [
    "import matplotlib.pyplot as plt\n",
    "fig = plt.figure(figsize=(10, 10))\n",
    "ax = fig.add_subplot(111)\n",
    "df[distance < 3].plot(ax=ax, color=\"red\")\n",
    "df_demo.plot(ax=ax, color=\"blue\")"
   ]
  },
  {
   "cell_type": "code",
   "execution_count": null,
   "metadata": {},
   "outputs": [],
   "source": [
    "class NationalParkAssistant:\n",
    "\n",
    "    def __init__(self, df: geopandas.GeoDataFrame):\n",
    "        self.df = df\n",
    "\n",
    "    def system_prompt(self) -> str:\n",
    "        \n",
    "        \n",
    "        system_prompt = \"\"\"\n",
    "        Eres un experto en parques nacionales y te han contratado para hacer la evaluación de impacto ambiental\n",
    "        de un nuevo proyecto fotovoltaico en Chile.\n",
    "\n",
    "        El usuario entregará su locacion y los parques nacionales cercanos en un radio de 3km.\n",
    "\n",
    "        Tu trabajo es entregar una detallada evaluación de impacto ambiental del proyecto fotovoltaico en los parques nacionales cercanos.\n",
    "\n",
    "        Para esto primero vas a entregar un resumen si encuentras algo critico, para rechazar el proyecto, si no di que todo esta bien.\n",
    "\n",
    "        En caso de que encuentres algo critico, debes entregar una evaluación detallada de los impactos ambientales y sociales del proyecto.\n",
    "\n",
    "        El output será un JSON con dos campos\n",
    "        ```json\n",
    "        {\n",
    "            \"resumen\": \"El proyecto fotovoltaico tiene un impacto ambiental critico en el parque nacional Torres del Paine\",\n",
    "            \"evaluacion\": \"El proyecto fotovoltaico tiene un impacto ambiental critico en el parque nacional Torres del Paine debido a la alta concentración de aves en la zona\"}\n",
    "        }\n",
    "        ```\n",
    "        \"\"\"\n",
    "        return system_prompt\n",
    "\n",
    "    def evaluate_project(self, location: Polygon) -> dict:\n",
    "        distance = self.df.geometry.distance(location)\n"
   ]
  }
 ],
 "metadata": {
  "kernelspec": {
   "display_name": "hackathon",
   "language": "python",
   "name": "python3"
  },
  "language_info": {
   "codemirror_mode": {
    "name": "ipython",
    "version": 3
   },
   "file_extension": ".py",
   "mimetype": "text/x-python",
   "name": "python",
   "nbconvert_exporter": "python",
   "pygments_lexer": "ipython3",
   "version": "3.12.4"
  }
 },
 "nbformat": 4,
 "nbformat_minor": 2
}

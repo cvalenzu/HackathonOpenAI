{
 "cells": [
  {
   "cell_type": "code",
   "execution_count": 20,
   "metadata": {},
   "outputs": [],
   "source": [
    "import geopandas\n",
    "import os\n",
    "import wget\n",
    "import zipfile"
   ]
  },
  {
   "cell_type": "code",
   "execution_count": 25,
   "metadata": {},
   "outputs": [],
   "source": [
    "# Url to poligons of national parks\n",
    "url_path = \"https://opendata.arcgis.com/datasets/beb04b0e5bed44da9e5407ea50477a5c_0.zip\"\n",
    "\n",
    "# Create the output directory\n",
    "output_directory_base = \"../data/parques_nacionales\"\n",
    "if not os.path.exists(output_directory_base):\n",
    "    os.makedirs(output_directory_base, exist_ok=True)\n",
    "\n",
    "raw_data = '../data/raw'\n",
    "if not os.path.exists(raw_data):\n",
    "    os.makedirs(raw_data, exist_ok=True)\n",
    "\n",
    "# Download the data\n",
    "output_directory = wget.download(url_path, out=raw_data)\n",
    "# Unzip the data\n",
    "with zipfile.ZipFile(output_directory, 'r') as zip_ref:\n",
    "    zip_ref.extractall(output_directory_base)\n",
    "\n",
    "# Rename all files to a common name\n",
    "name = \"data_parques\"\n",
    "for file in os.listdir(output_directory_base):\n",
    "    os.rename(\n",
    "        os.path.join(output_directory_base, file), \n",
    "        os.path.join(output_directory_base, name + os.path.splitext(file)[1])\n",
    "    )"
   ]
  },
  {
   "cell_type": "code",
   "execution_count": 27,
   "metadata": {},
   "outputs": [],
   "source": [
    "# Load files\n",
    "df = geopandas.read_file(\n",
    "    os.path.join(output_directory_base, name + \".shp\")\n",
    ")"
   ]
  },
  {
   "cell_type": "code",
   "execution_count": 32,
   "metadata": {},
   "outputs": [
    {
     "data": {
      "text/plain": [
       "<Axes: >"
      ]
     },
     "execution_count": 32,
     "metadata": {},
     "output_type": "execute_result"
    },
    {
     "data": {
      "image/png": "[encoded data removed]",
      "text/plain": [
       "<Figure size 640x480 with 1 Axes>"
      ]
     },
     "metadata": {},
     "output_type": "display_data"
    }
   ],
   "source": [
    "df.plot()"
   ]
  },
  {
   "cell_type": "code",
   "execution_count": null,
   "metadata": {},
   "outputs": [],
   "source": []
  }
 ],
 "metadata": {
  "kernelspec": {
   "display_name": "hackathon",
   "language": "python",
   "name": "python3"
  },
  "language_info": {
   "codemirror_mode": {
    "name": "ipython",
    "version": 3
   },
   "file_extension": ".py",
   "mimetype": "text/x-python",
   "name": "python",
   "nbconvert_exporter": "python",
   "pygments_lexer": "ipython3",
   "version": "3.12.4"
  }
 },
 "nbformat": 4,
 "nbformat_minor": 2
}

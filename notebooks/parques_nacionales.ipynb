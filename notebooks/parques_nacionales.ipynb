{
 "cells": [
  {
   "cell_type": "code",
   "execution_count": 38,
   "metadata": {},
   "outputs": [],
   "source": [
    "import geopandas\n",
    "from shapely import Polygon\n",
    "\n",
    "import os\n",
    "import json\n",
    "import wget\n",
    "import zipfile\n",
    "\n",
    "from dotenv import load_dotenv\n",
    "\n",
    "from openai import OpenAI"
   ]
  },
  {
   "cell_type": "code",
   "execution_count": 39,
   "metadata": {},
   "outputs": [],
   "source": [
    "\n",
    "def download_national_parks_data(\n",
    "        url_path: str = \"https://opendata.arcgis.com/datasets/beb04b0e5bed44da9e5407ea50477a5c_0.zip\",\n",
    "        output_directory_base: str = \"../data/parques_nacionales\",\n",
    "        raw_data: str = '../data/raw',\n",
    "        name: str = \"data_parques\"\n",
    ") -> str:\n",
    "    \"\"\"\n",
    "    Download the national parks data from the url_path and save it in the output_directory_base\n",
    "    \"\"\"\n",
    "    if not os.path.exists(output_directory_base):\n",
    "        os.makedirs(output_directory_base, exist_ok=True)\n",
    "\n",
    "    if not os.path.exists(raw_data):\n",
    "        os.makedirs(raw_data, exist_ok=True)\n",
    "\n",
    "    # Download the data\n",
    "    output_directory = wget.download(url_path, out=raw_data)\n",
    "    # Unzip the data\n",
    "    with zipfile.ZipFile(output_directory, 'r') as zip_ref:\n",
    "        zip_ref.extractall(output_directory_base)\n",
    "\n",
    "    for file in os.listdir(output_directory_base):\n",
    "        os.rename(\n",
    "            os.path.join(output_directory_base, file), \n",
    "            os.path.join(output_directory_base, name + os.path.splitext(file)[1])\n",
    "        )\n",
    "    return output_directory_base"
   ]
  },
  {
   "cell_type": "code",
   "execution_count": 40,
   "metadata": {},
   "outputs": [],
   "source": [
    "load_dotenv(\"../.env\")\n",
    "\n",
    "name = \"data_parques\"\n",
    "output_directory_base = download_national_parks_data(name=name)\n",
    "\n",
    "# Load files\n",
    "df = geopandas.read_file(\n",
    "    os.path.join(output_directory_base, name + \".shp\")\n",
    ")"
   ]
  },
  {
   "cell_type": "code",
   "execution_count": 41,
   "metadata": {},
   "outputs": [],
   "source": [
    "df_demo = geopandas.read_file(\n",
    "    \"../data/demo_data/doc.kml\"\n",
    ")"
   ]
  },
  {
   "cell_type": "code",
   "execution_count": 42,
   "metadata": {},
   "outputs": [],
   "source": [
    "df_kms = df.to_crs(\"EPSG:32633\")\n",
    "demo_geometry_kms = df_demo.to_crs(\"EPSG:32633\")"
   ]
  },
  {
   "cell_type": "code",
   "execution_count": 57,
   "metadata": {},
   "outputs": [],
   "source": [
    "class NationalParkAssistant:\n",
    "\n",
    "    def __init__(self, df: geopandas.GeoDataFrame, client: OpenAI):\n",
    "        self.df = df\n",
    "        self.client = client\n",
    "\n",
    "    def system_prompt(self) -> str:\n",
    "        \n",
    "        \n",
    "        system_prompt = \"\"\"\n",
    "        Eres un experto en parques nacionales y te han contratado para hacer la evaluación de impacto ambiental\n",
    "        de un nuevo proyecto fotovoltaico en Chile.\n",
    "\n",
    "        El usuario entregará su locacion y los parques nacionales cercanos en un radio de 3km.\n",
    "\n",
    "        Tu trabajo es entregar una detallada evaluación de impacto ambiental del proyecto fotovoltaico en los parques nacionales cercanos.\n",
    "\n",
    "        Para esto primero vas a entregar un resumen si encuentras algo critico, para rechazar el proyecto, si no di que todo esta bien.\n",
    "\n",
    "        En caso de que encuentres algo critico, debes entregar una evaluación detallada de los impactos ambientales y sociales del proyecto.\n",
    "\n",
    "        El output será un JSON con dos campos\n",
    "        ```json\n",
    "        {\n",
    "            \"resumen\": Resumen corto de la evaluacion,\n",
    "            \"evaluacion\": Detalle de la evaluacion\n",
    "        }\n",
    "        ```\n",
    "        \"\"\"\n",
    "        return system_prompt\n",
    "    \n",
    "    def format_message(self, close_parks: geopandas.GeoDataFrame) -> str:\n",
    "        close_parks_data = str(close_parks.to_dict(\"records\"))\n",
    "        message = \"\"\"\n",
    "        Los parques nacionales cercanos a menos de 3km son:\n",
    "        {close_parks}\n",
    "        \"\"\"\n",
    "        return message.replace(\"{close_parks}\", close_parks_data)\n",
    "\n",
    "\n",
    "    def evaluate_project(self, location: Polygon, threshold_in_meters: int = 3000) -> dict:\n",
    "        distance = self.df.geometry.distance(location.iloc[0].geometry)\n",
    "\n",
    "        close_parks = self.df[distance < threshold_in_meters]\n",
    "        \n",
    "        print(\"Numero de parques cercanos: \", close_parks.shape[0])\n",
    "\n",
    "        system_prompt = self.system_prompt()\n",
    "        message = self.format_message(close_parks)\n",
    "\n",
    "        messages = [\n",
    "            {\"role\": \"system\", \"content\": system_prompt},\n",
    "            {\"role\": \"user\", \"content\": message}\n",
    "        ]\n",
    "        response = self.client.chat.completions.create(\n",
    "            model=\"gpt-3.5-turbo\",\n",
    "            messages=messages,\n",
    "            response_format={ \"type\": \"json_object\" },\n",
    "            temperature=0\n",
    "        )\n",
    "        return json.loads(response.choices[0].message.content)"
   ]
  },
  {
   "cell_type": "code",
   "execution_count": 58,
   "metadata": {},
   "outputs": [],
   "source": [
    "park_assistant = NationalParkAssistant(df_kms, OpenAI())"
   ]
  },
  {
   "cell_type": "code",
   "execution_count": 59,
   "metadata": {},
   "outputs": [
    {
     "name": "stdout",
     "output_type": "stream",
     "text": [
      "Numero de parques cercanos:  9\n"
     ]
    }
   ],
   "source": [
    "response = park_assistant.evaluate_project(demo_geometry_kms, threshold_in_meters=50000)"
   ]
  },
  {
   "cell_type": "code",
   "execution_count": 60,
   "metadata": {},
   "outputs": [
    {
     "data": {
      "text/plain": [
       "{'resumen': 'Se encontraron varios parques nacionales cercanos al proyecto fotovoltaico, por lo que es necesario realizar una evaluación detallada de impacto ambiental y social antes de aprobar el proyecto.',\n",
       " 'evaluacion': 'El proyecto fotovoltaico propuesto podría tener impactos significativos en los parques nacionales cercanos, como Quebrada de Córdova, Sector Canelo - Canelillo, Sector costero de Isla Negra, Barrios Vaticano y Quirinal, Playa Tunquén-Quebrada Seca, Humedal de Tunquén, Capilla Los Perales, Casa Labbé y Ex ballenera de Quintay. Algunos de los impactos ambientales y sociales a considerar incluyen la alteración del paisaje natural, la posible contaminación del agua y suelo, la interrupción de los ecosistemas locales, el riesgo para la fauna y flora nativa, así como posibles conflictos con las comunidades locales y turistas que visitan estos parques. Se recomienda realizar estudios de impacto ambiental exhaustivos y consultar con las autoridades competentes y la comunidad antes de proceder con el proyecto fotovoltaico.'}"
      ]
     },
     "execution_count": 60,
     "metadata": {},
     "output_type": "execute_result"
    }
   ],
   "source": [
    "response"
   ]
  },
  {
   "cell_type": "code",
   "execution_count": null,
   "metadata": {},
   "outputs": [],
   "source": []
  }
 ],
 "metadata": {
  "kernelspec": {
   "display_name": "hackathon",
   "language": "python",
   "name": "python3"
  },
  "language_info": {
   "codemirror_mode": {
    "name": "ipython",
    "version": 3
   },
   "file_extension": ".py",
   "mimetype": "text/x-python",
   "name": "python",
   "nbconvert_exporter": "python",
   "pygments_lexer": "ipython3",
   "version": "3.12.4"
  }
 },
 "nbformat": 4,
 "nbformat_minor": 2
}

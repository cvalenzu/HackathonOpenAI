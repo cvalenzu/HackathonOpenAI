{
 "cells": [
  {
   "cell_type": "code",
   "metadata": {
    "ExecuteTime": {
     "end_time": "2024-08-24T19:02:25.420796Z",
     "start_time": "2024-08-24T19:02:25.415610Z"
    }
   },
   "source": [
    "import json\n",
    "import os\n",
    "\n",
    "import geopandas\n",
    "from dotenv import load_dotenv\n",
    "from openai import OpenAI\n",
    "from shapely.geometry import Polygon"
   ],
   "outputs": [],
   "execution_count": 53
  },
  {
   "cell_type": "code",
   "metadata": {
    "ExecuteTime": {
     "end_time": "2024-08-24T16:04:59.701237Z",
     "start_time": "2024-08-24T16:04:59.698780Z"
    }
   },
   "source": "",
   "outputs": [],
   "execution_count": 14
  },
  {
   "cell_type": "code",
   "metadata": {
    "ExecuteTime": {
     "end_time": "2024-08-24T19:08:55.887118Z",
     "start_time": "2024-08-24T19:08:52.259701Z"
    }
   },
   "source": [
    "# load land usage data\n",
    "load_dotenv(\"../.env\")\n",
    "\n",
    "path = \"../data/uso_suelos/\"\n",
    "filename = \"05_region_valparaiso.shp\"\n",
    "\n",
    "# Load files\n",
    "original_df = geopandas.read_file(\n",
    "    os.path.join(path, filename)\n",
    ")\n",
    "\n",
    "# Get example polygon\n",
    "df_demo = geopandas.read_file(\n",
    "    \"../data/demo_data/doc.kml\"\n",
    ")"
   ],
   "outputs": [],
   "execution_count": 59
  },
  {
   "cell_type": "code",
   "metadata": {
    "ExecuteTime": {
     "end_time": "2024-08-24T19:09:06.994689Z",
     "start_time": "2024-08-24T19:08:55.888708Z"
    }
   },
   "source": [
    "# filter columns\n",
    "selected_columns = [\"USO_TIERRA\", \"USO\", \"NOM_REG\", \"NOM_COM\", \"geometry\"]\n",
    "df = original_df[selected_columns]\n",
    "\n",
    "# parse data\n",
    "df_kms = df.to_crs(\"EPSG:32633\")\n",
    "demo_geometry_kms = df_demo.to_crs(\"EPSG:32633\")"
   ],
   "outputs": [],
   "execution_count": 60
  },
  {
   "cell_type": "code",
   "metadata": {
    "ExecuteTime": {
     "end_time": "2024-08-24T19:09:56.363439Z",
     "start_time": "2024-08-24T19:09:56.327343Z"
    }
   },
   "source": [
    "# buscamos si el poligono demo se sobrepone en todos los poligonos restringidos\n",
    "overlapping_geometries = df_kms[df_kms.geometry.overlaps(demo_geometry_kms.iloc[0].geometry)]\n",
    "overlapping_geometries"
   ],
   "outputs": [
    {
     "data": {
      "text/plain": [
       "                                  USO_TIERRA                           USO  \\\n",
       "9378   Ciudades, Pueblos, Zonas Industriales  Áreas Urbanas e Industriales   \n",
       "9610                 Terreno de Uso Agrícola            Terrenos Agrícolas   \n",
       "9611                 Terreno de Uso Agrícola            Terrenos Agrícolas   \n",
       "9612   Ciudades, Pueblos, Zonas Industriales  Áreas Urbanas e Industriales   \n",
       "9631                 Terreno de Uso Agrícola            Terrenos Agrícolas   \n",
       "14753           Bosque Nativo Adulto Abierto                       Bosques   \n",
       "14754           Bosque Nativo Adulto Abierto                       Bosques   \n",
       "15402          Bosque Nativo Renoval Abierto                       Bosques   \n",
       "15551          Bosque Nativo Renoval Abierto                       Bosques   \n",
       "15580          Bosque Nativo Renoval Abierto                       Bosques   \n",
       "15581        Bosque Nativo Renoval Semidenso                       Bosques   \n",
       "65058                Terreno de Uso Agrícola            Terrenos Agrícolas   \n",
       "65099               Rotación Cultivo-Pradera            Terrenos Agrícolas   \n",
       "\n",
       "                    NOM_REG     NOM_COM  \\\n",
       "9378   Región de Valparaíso  Casablanca   \n",
       "9610   Región de Valparaíso  Casablanca   \n",
       "9611   Región de Valparaíso  Casablanca   \n",
       "9612   Región de Valparaíso  Casablanca   \n",
       "9631   Región de Valparaíso  Casablanca   \n",
       "14753  Región de Valparaíso  Casablanca   \n",
       "14754  Región de Valparaíso  Casablanca   \n",
       "15402  Región de Valparaíso  Casablanca   \n",
       "15551  Región de Valparaíso  Casablanca   \n",
       "15580  Región de Valparaíso  Casablanca   \n",
       "15581  Región de Valparaíso  Casablanca   \n",
       "65058  Región de Valparaíso  Casablanca   \n",
       "65099  Región de Valparaíso  Casablanca   \n",
       "\n",
       "                                                geometry  \n",
       "9378   POLYGON ((-7156556.944 -9400526.041, -7156539....  \n",
       "9610   POLYGON ((-7155146.725 -9399119.228, -7155144....  \n",
       "9611   POLYGON ((-7155463.727 -9400093.248, -7155472....  \n",
       "9612   POLYGON ((-7156212.718 -9400702.359, -7156216....  \n",
       "9631   POLYGON ((-7156817.114 -9400229.853, -7156853....  \n",
       "14753  POLYGON ((-7157566.979 -9398655.896, -7157565....  \n",
       "14754  POLYGON ((-7157436.071 -9398342.399, -7157438....  \n",
       "15402  POLYGON ((-7154803.748 -9399627.106, -7154804....  \n",
       "15551  POLYGON ((-7157375.943 -9397436.767, -7157374....  \n",
       "15580  POLYGON ((-7155922.881 -9399123.606, -7155921....  \n",
       "15581  POLYGON ((-7159076.802 -9397503.714, -7159076....  \n",
       "65058  POLYGON ((-7156754.659 -9400719.095, -7156742....  \n",
       "65099  POLYGON ((-7147197.492 -9380842.487, -7147156....  "
      ],
      "text/html": [
       "<div>\n",
       "<style scoped>\n",
       "    .dataframe tbody tr th:only-of-type {\n",
       "        vertical-align: middle;\n",
       "    }\n",
       "\n",
       "    .dataframe tbody tr th {\n",
       "        vertical-align: top;\n",
       "    }\n",
       "\n",
       "    .dataframe thead th {\n",
       "        text-align: right;\n",
       "    }\n",
       "</style>\n",
       "<table border=\"1\" class=\"dataframe\">\n",
       "  <thead>\n",
       "    <tr style=\"text-align: right;\">\n",
       "      <th></th>\n",
       "      <th>USO_TIERRA</th>\n",
       "      <th>USO</th>\n",
       "      <th>NOM_REG</th>\n",
       "      <th>NOM_COM</th>\n",
       "      <th>geometry</th>\n",
       "    </tr>\n",
       "  </thead>\n",
       "  <tbody>\n",
       "    <tr>\n",
       "      <th>9378</th>\n",
       "      <td>Ciudades, Pueblos, Zonas Industriales</td>\n",
       "      <td>Áreas Urbanas e Industriales</td>\n",
       "      <td>Región de Valparaíso</td>\n",
       "      <td>Casablanca</td>\n",
       "      <td>POLYGON ((-7156556.944 -9400526.041, -7156539....</td>\n",
       "    </tr>\n",
       "    <tr>\n",
       "      <th>9610</th>\n",
       "      <td>Terreno de Uso Agrícola</td>\n",
       "      <td>Terrenos Agrícolas</td>\n",
       "      <td>Región de Valparaíso</td>\n",
       "      <td>Casablanca</td>\n",
       "      <td>POLYGON ((-7155146.725 -9399119.228, -7155144....</td>\n",
       "    </tr>\n",
       "    <tr>\n",
       "      <th>9611</th>\n",
       "      <td>Terreno de Uso Agrícola</td>\n",
       "      <td>Terrenos Agrícolas</td>\n",
       "      <td>Región de Valparaíso</td>\n",
       "      <td>Casablanca</td>\n",
       "      <td>POLYGON ((-7155463.727 -9400093.248, -7155472....</td>\n",
       "    </tr>\n",
       "    <tr>\n",
       "      <th>9612</th>\n",
       "      <td>Ciudades, Pueblos, Zonas Industriales</td>\n",
       "      <td>Áreas Urbanas e Industriales</td>\n",
       "      <td>Región de Valparaíso</td>\n",
       "      <td>Casablanca</td>\n",
       "      <td>POLYGON ((-7156212.718 -9400702.359, -7156216....</td>\n",
       "    </tr>\n",
       "    <tr>\n",
       "      <th>9631</th>\n",
       "      <td>Terreno de Uso Agrícola</td>\n",
       "      <td>Terrenos Agrícolas</td>\n",
       "      <td>Región de Valparaíso</td>\n",
       "      <td>Casablanca</td>\n",
       "      <td>POLYGON ((-7156817.114 -9400229.853, -7156853....</td>\n",
       "    </tr>\n",
       "    <tr>\n",
       "      <th>14753</th>\n",
       "      <td>Bosque Nativo Adulto Abierto</td>\n",
       "      <td>Bosques</td>\n",
       "      <td>Región de Valparaíso</td>\n",
       "      <td>Casablanca</td>\n",
       "      <td>POLYGON ((-7157566.979 -9398655.896, -7157565....</td>\n",
       "    </tr>\n",
       "    <tr>\n",
       "      <th>14754</th>\n",
       "      <td>Bosque Nativo Adulto Abierto</td>\n",
       "      <td>Bosques</td>\n",
       "      <td>Región de Valparaíso</td>\n",
       "      <td>Casablanca</td>\n",
       "      <td>POLYGON ((-7157436.071 -9398342.399, -7157438....</td>\n",
       "    </tr>\n",
       "    <tr>\n",
       "      <th>15402</th>\n",
       "      <td>Bosque Nativo Renoval Abierto</td>\n",
       "      <td>Bosques</td>\n",
       "      <td>Región de Valparaíso</td>\n",
       "      <td>Casablanca</td>\n",
       "      <td>POLYGON ((-7154803.748 -9399627.106, -7154804....</td>\n",
       "    </tr>\n",
       "    <tr>\n",
       "      <th>15551</th>\n",
       "      <td>Bosque Nativo Renoval Abierto</td>\n",
       "      <td>Bosques</td>\n",
       "      <td>Región de Valparaíso</td>\n",
       "      <td>Casablanca</td>\n",
       "      <td>POLYGON ((-7157375.943 -9397436.767, -7157374....</td>\n",
       "    </tr>\n",
       "    <tr>\n",
       "      <th>15580</th>\n",
       "      <td>Bosque Nativo Renoval Abierto</td>\n",
       "      <td>Bosques</td>\n",
       "      <td>Región de Valparaíso</td>\n",
       "      <td>Casablanca</td>\n",
       "      <td>POLYGON ((-7155922.881 -9399123.606, -7155921....</td>\n",
       "    </tr>\n",
       "    <tr>\n",
       "      <th>15581</th>\n",
       "      <td>Bosque Nativo Renoval Semidenso</td>\n",
       "      <td>Bosques</td>\n",
       "      <td>Región de Valparaíso</td>\n",
       "      <td>Casablanca</td>\n",
       "      <td>POLYGON ((-7159076.802 -9397503.714, -7159076....</td>\n",
       "    </tr>\n",
       "    <tr>\n",
       "      <th>65058</th>\n",
       "      <td>Terreno de Uso Agrícola</td>\n",
       "      <td>Terrenos Agrícolas</td>\n",
       "      <td>Región de Valparaíso</td>\n",
       "      <td>Casablanca</td>\n",
       "      <td>POLYGON ((-7156754.659 -9400719.095, -7156742....</td>\n",
       "    </tr>\n",
       "    <tr>\n",
       "      <th>65099</th>\n",
       "      <td>Rotación Cultivo-Pradera</td>\n",
       "      <td>Terrenos Agrícolas</td>\n",
       "      <td>Región de Valparaíso</td>\n",
       "      <td>Casablanca</td>\n",
       "      <td>POLYGON ((-7147197.492 -9380842.487, -7147156....</td>\n",
       "    </tr>\n",
       "  </tbody>\n",
       "</table>\n",
       "</div>"
      ]
     },
     "execution_count": 62,
     "metadata": {},
     "output_type": "execute_result"
    }
   ],
   "execution_count": 62
  },
  {
   "metadata": {
    "ExecuteTime": {
     "end_time": "2024-08-24T19:10:05.582875Z",
     "start_time": "2024-08-24T19:10:05.581326Z"
    }
   },
   "cell_type": "code",
   "source": "\n",
   "outputs": [],
   "execution_count": 62
  },
  {
   "metadata": {
    "ExecuteTime": {
     "end_time": "2024-08-24T18:45:39.871694Z",
     "start_time": "2024-08-24T18:45:39.869797Z"
    }
   },
   "cell_type": "code",
   "source": "",
   "outputs": [],
   "execution_count": 52
  },
  {
   "cell_type": "code",
   "metadata": {
    "ExecuteTime": {
     "end_time": "2024-08-24T19:10:09.925850Z",
     "start_time": "2024-08-24T19:10:09.919645Z"
    }
   },
   "source": [
    "class LandUseAssistant:\n",
    "\n",
    "    def __init__(self, dataframe: geopandas.GeoDataFrame, client: object):\n",
    "        self.dataframe = dataframe\n",
    "        self.client = client\n",
    "\n",
    "    @staticmethod\n",
    "    def system_prompt() -> str:\n",
    "        system_prompt = \"\"\"\n",
    "        Eres un experto en uso de suelos y te han contratado para hacer la evaluación de impacto ambiental de un nuevo proyecto fotovoltaico en Chile.\n",
    "\n",
    "        El usuario entregará la ubicación y los diferentes usos de suelo en un radio de 3 km.\n",
    "\n",
    "        Tu trabajo es entregar una detallada evaluación de impacto ambiental del proyecto fotovoltaico en las áreas de diferentes usos de suelo cercanas.\n",
    "\n",
    "        Para esto, primero debes entregar un resumen si encuentras algo crítico para rechazar el proyecto; si no, indica que todo está bien.\n",
    "\n",
    "        En caso de encontrar algo crítico, debes entregar una evaluación detallada de los impactos ambientales y sociales del proyecto.\n",
    "\n",
    "        El output será un JSON con dos campos:\n",
    "\n",
    "        ```json\n",
    "        {\n",
    "            \"resumen\": \"Resumen corto de la evaluación\",\n",
    "            \"evaluacion\": \"Detalle de la evaluación\"\n",
    "        }\n",
    "        ```\n",
    "        \n",
    "        Las categorías de uso de suelo que considerarás son las siguientes: áreas desprovistas de vegetación, praderas y matorrales, humedales, bosque.\n",
    "        \"\"\"\n",
    "        return system_prompt\n",
    "\n",
    "    @staticmethod\n",
    "    def format_message(nearby_land_use: geopandas.GeoDataFrame) -> str:\n",
    "        nearby_land_use_data = str(nearby_land_use.to_dict(\"records\"))\n",
    "        message = \"\"\"\n",
    "        Los tipos de uso de suelo dentro de un radio de 3 km de la ubicación del proyecto son:\n",
    "        {nearby_land_use}\n",
    "        \"\"\"\n",
    "        return message.replace(\"{nearby_land_use}\", nearby_land_use_data)\n",
    "\n",
    "    def evaluate_project(self, location: Polygon) -> dict:\n",
    "        # Calculate the distance from the project location to the surrounding land use areas\n",
    "        overlaps = df_kms[df_kms.geometry.overlaps(demo_geometry_kms.iloc[0].geometry)]\n",
    "\n",
    "        print(\"Number of nearby land use areas: \", overlaps.shape[0])\n",
    "\n",
    "        # Prepare the system prompt and user message for the model\n",
    "        system_prompt = self.system_prompt()\n",
    "        message = self.format_message(overlaps)\n",
    "\n",
    "        messages = [\n",
    "            {\"role\": \"system\", \"content\": system_prompt},\n",
    "            {\"role\": \"user\", \"content\": message}\n",
    "        ]\n",
    "\n",
    "        # Generate the response using the model\n",
    "        response = self.client.chat.completions.create(\n",
    "            model=\"gpt-3.5-turbo\",\n",
    "            messages=messages,\n",
    "            response_format={\"type\": \"json_object\"},\n",
    "            temperature=0\n",
    "        )\n",
    "\n",
    "        return json.loads(response.choices[0].message.content)\n"
   ],
   "outputs": [],
   "execution_count": 63
  },
  {
   "cell_type": "code",
   "metadata": {
    "ExecuteTime": {
     "end_time": "2024-08-24T19:10:15.801437Z",
     "start_time": "2024-08-24T19:10:15.152887Z"
    }
   },
   "source": "park_assistant = LandUseAssistant(df_kms, OpenAI())",
   "outputs": [],
   "execution_count": 64
  },
  {
   "cell_type": "code",
   "metadata": {
    "ExecuteTime": {
     "end_time": "2024-08-24T19:10:40.314840Z",
     "start_time": "2024-08-24T19:10:38.377199Z"
    }
   },
   "source": "response = park_assistant.evaluate_project(demo_geometry_kms)",
   "outputs": [
    {
     "name": "stdout",
     "output_type": "stream",
     "text": [
      "Number of nearby land use areas:  13\n"
     ]
    }
   ],
   "execution_count": 65
  },
  {
   "cell_type": "code",
   "metadata": {
    "ExecuteTime": {
     "end_time": "2024-08-24T19:10:46.778105Z",
     "start_time": "2024-08-24T19:10:46.773949Z"
    }
   },
   "source": [
    "response"
   ],
   "outputs": [
    {
     "data": {
      "text/plain": [
       "{'resumen': 'Se identificaron áreas de bosque nativo en las cercanías del proyecto fotovoltaico, lo cual podría generar impactos ambientales significativos.',\n",
       " 'evaluacion': 'El proyecto fotovoltaico podría tener un impacto negativo en los bosques nativos cercanos, afectando la biodiversidad y el hábitat de especies locales. Se recomienda realizar un estudio detallado de los impactos ambientales y tomar medidas de mitigación, como la reforestación de áreas afectadas o la implementación de medidas para minimizar la fragmentación del hábitat.'}"
      ]
     },
     "execution_count": 66,
     "metadata": {},
     "output_type": "execute_result"
    }
   ],
   "execution_count": 66
  },
  {
   "cell_type": "code",
   "execution_count": null,
   "metadata": {},
   "outputs": [],
   "source": []
  }
 ],
 "metadata": {
  "kernelspec": {
   "display_name": "hackathon",
   "language": "python",
   "name": "python3"
  },
  "language_info": {
   "codemirror_mode": {
    "name": "ipython",
    "version": 3
   },
   "file_extension": ".py",
   "mimetype": "text/x-python",
   "name": "python",
   "nbconvert_exporter": "python",
   "pygments_lexer": "ipython3",
   "version": "3.12.4"
  }
 },
 "nbformat": 4,
 "nbformat_minor": 2
}

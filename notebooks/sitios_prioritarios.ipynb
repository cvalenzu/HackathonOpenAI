{
 "cells": [
  {
   "cell_type": "code",
   "execution_count": 19,
   "id": "1b6d9811-a767-4ff5-a43d-bb6d559325ff",
   "metadata": {},
   "outputs": [],
   "source": [
    "import geopandas\n",
    "from shapely import Polygon\n",
    "import subprocess\n",
    "\n",
    "\n",
    "import os\n",
    "import json\n",
    "import wget\n",
    "import zipfile\n",
    "\n",
    "\n",
    "from dotenv import load_dotenv\n",
    "\n",
    "from openai import OpenAI"
   ]
  },
  {
   "cell_type": "code",
   "execution_count": 12,
   "id": "cfe8d808-d1f9-46d8-8d3f-c0a64597cee8",
   "metadata": {},
   "outputs": [],
   "source": [
    "load_dotenv(\"../.env\")\n",
    "\n",
    "output_directory_base = \"../data/sitios_prioritarios\"\n",
    "name = \"Sitios_Prioritarios\"\n",
    "\n",
    "# Load files\n",
    "df = geopandas.read_file(\n",
    "    os.path.join(output_directory_base, name + \".shp\")\n",
    ")"
   ]
  },
  {
   "cell_type": "code",
   "execution_count": 13,
   "id": "f83b33f8-e080-4c27-b307-e523a070efce",
   "metadata": {},
   "outputs": [],
   "source": [
    "df_demo = geopandas.read_file(\n",
    "    \"../data/demo_data/doc.kml\"\n",
    ")"
   ]
  },
  {
   "cell_type": "code",
   "execution_count": 14,
   "id": "ac4c2385-e0d0-4bfe-b5d4-d9cd2f54568b",
   "metadata": {},
   "outputs": [],
   "source": [
    "df_kms = df.to_crs(\"EPSG:32633\")\n",
    "demo_geometry_kms = df_demo.to_crs(\"EPSG:32633\")"
   ]
  },
  {
   "cell_type": "code",
   "execution_count": 15,
   "id": "80c4b21f-e0a9-4346-b433-1bdaded89bc6",
   "metadata": {},
   "outputs": [],
   "source": [
    "class PrioritySitesAssistant:\n",
    "\n",
    "    def __init__(self, df: geopandas.GeoDataFrame, client: OpenAI):\n",
    "        self.df = df\n",
    "        self.client = client\n",
    "\n",
    "    def system_prompt(self) -> str:        \n",
    "        system_prompt = \"\"\"\n",
    "        Eres un experto en sitios prioritarios de alta importancia para la conservación ambiental, protección de la biodiversidad, \n",
    "        o preservación de ciertos recursos naturales o culturales y te han contratado para hacer la evaluación de impacto ambiental\n",
    "        de un nuevo proyecto de parque fotovoltaico en Chile bajo su respectiva legislación.\n",
    "\n",
    "        El usuario entregará su locacion y los sitios prioritarios cercanos en un radio de 3km.\n",
    "\n",
    "        Tu trabajo es entregar una detallada evaluación de impacto ambiental del proyecto fotovoltaico en los sitios prioritarios cercanos.\n",
    "\n",
    "        Para esto primero vas a entregar un resumen si encuentras algo critico, para rechazar el proyecto, si no di que todo esta bien.\n",
    "\n",
    "        En caso de que encuentres algo critico, debes entregar una evaluación detallada de los impactos ambientales y sociales del proyecto.\n",
    "\n",
    "        El output será un JSON con dos campos\n",
    "        ```json\n",
    "        {\n",
    "            \"resumen\": Resumen breve de la evaluacion,\n",
    "            \"evaluacion\": Detalle de la evaluacion\n",
    "        }\n",
    "        ```\n",
    "        \"\"\"\n",
    "        return system_prompt\n",
    "    \n",
    "    def format_message(self, close_sites: geopandas.GeoDataFrame) -> str:\n",
    "        close_sites_data = str(close_sites.to_dict(\"records\"))\n",
    "        message = \"\"\"\n",
    "        Los sitios prioritarios cercanos a menos de 3km son:\n",
    "        {close_sites}\n",
    "        \"\"\"\n",
    "        return message.replace(\"{close_sites}\", close_sites_data)\n",
    "\n",
    "\n",
    "    def evaluate_project(self, location: Polygon, threshold_in_meters: int = 3000) -> dict:\n",
    "        distance = self.df.geometry.distance(location.iloc[0].geometry)\n",
    "\n",
    "        close_parks = self.df[distance < threshold_in_meters]\n",
    "        \n",
    "        print(\"Numero de sitios cercanos: \", close_parks.shape[0])\n",
    "\n",
    "        system_prompt = self.system_prompt()\n",
    "        message = self.format_message(close_parks)\n",
    "\n",
    "        messages = [\n",
    "            {\"role\": \"system\", \"content\": system_prompt},\n",
    "            {\"role\": \"user\", \"content\": message}\n",
    "        ]\n",
    "        response = self.client.chat.completions.create(\n",
    "            model=\"gpt-3.5-turbo\",\n",
    "            messages=messages,\n",
    "            response_format={ \"type\": \"json_object\" },\n",
    "            temperature=0\n",
    "        )\n",
    "        return json.loads(response.choices[0].message.content)"
   ]
  },
  {
   "cell_type": "code",
   "execution_count": 16,
   "id": "e1eaaefc-8218-4226-89d2-5c4a33a9f8ef",
   "metadata": {},
   "outputs": [],
   "source": [
    "ps_assistant = PrioritySitesAssistant(df_kms, OpenAI())"
   ]
  },
  {
   "cell_type": "code",
   "execution_count": 17,
   "id": "fd839bd8-4b7c-47ae-bb91-29b44e7ddd7b",
   "metadata": {},
   "outputs": [
    {
     "name": "stdout",
     "output_type": "stream",
     "text": [
      "Numero de sitios cercanos:  1\n"
     ]
    }
   ],
   "source": [
    "response = ps_assistant.evaluate_project(demo_geometry_kms, threshold_in_meters=3000)"
   ]
  },
  {
   "cell_type": "code",
   "execution_count": 18,
   "id": "c91178cf-b7c6-4d3f-bb95-9c22c329d0d3",
   "metadata": {},
   "outputs": [
    {
     "data": {
      "text/plain": [
       "{'resumen': 'Se encontró que el proyecto de parque fotovoltaico impactaría negativamente en el Estero Casablanca, un sitio prioritario de alta importancia para la conservación ambiental.',\n",
       " 'evaluacion': 'El proyecto de parque fotovoltaico en las cercanías del Estero Casablanca podría tener impactos ambientales significativos, como la fragmentación del hábitat de especies nativas, la contaminación del agua y la alteración de los flujos hidrológicos. Además, la construcción y operación del parque podrían generar ruidos y alteraciones visuales que afecten negativamente a la fauna y flora del estero. También se debe considerar el posible impacto social en las comunidades locales que dependen de este recurso hídrico para sus actividades económicas y culturales. Se recomienda realizar estudios más detallados y medidas de mitigación antes de aprobar el proyecto.'}"
      ]
     },
     "execution_count": 18,
     "metadata": {},
     "output_type": "execute_result"
    }
   ],
   "source": [
    "response"
   ]
  },
  {
   "cell_type": "code",
   "execution_count": null,
   "id": "d3425499-7b80-4c37-a926-19d605e336f5",
   "metadata": {},
   "outputs": [],
   "source": []
  }
 ],
 "metadata": {
  "kernelspec": {
   "display_name": "Python 3 (ipykernel)",
   "language": "python",
   "name": "python3"
  },
  "language_info": {
   "codemirror_mode": {
    "name": "ipython",
    "version": 3
   },
   "file_extension": ".py",
   "mimetype": "text/x-python",
   "name": "python",
   "nbconvert_exporter": "python",
   "pygments_lexer": "ipython3",
   "version": "3.12.4"
  }
 },
 "nbformat": 4,
 "nbformat_minor": 5
}

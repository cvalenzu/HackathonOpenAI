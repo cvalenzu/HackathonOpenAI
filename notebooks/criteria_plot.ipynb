{
 "cells": [
  {
   "cell_type": "code",
   "execution_count": 2,
   "id": "374bb587-b510-4123-ac31-c9b81641afab",
   "metadata": {},
   "outputs": [],
   "source": [
    "import geopandas\n",
    "import os\n",
    "import folium"
   ]
  },
  {
   "cell_type": "code",
   "execution_count": null,
   "id": "a57125bf-b824-4afc-a61a-b395716a9363",
   "metadata": {},
   "outputs": [],
   "source": [
    "output_directory_base = \"../data/sitios_prioritarios\"\n",
    "name = \"Sitios_Prioritarios\"\n",
    "\n",
    "# Load files\n",
    "df = geopandas.read_file(os.path.join(output_directory_base, name + \".shp\"))\n",
    "\n",
    "mapa = folium.Map(location=[-33.397629, -71.132279], zoom_start=10)\n",
    "\n",
    "# Agregar los polígonos al mapa\n",
    "folium.GeoJson(\n",
    "    df,\n",
    "    style_function=lambda x: {\n",
    "        \"fillColor\": \"blue\",\n",
    "        \"color\": \"black\",\n",
    "        \"weight\": 2.5,\n",
    "        \"fillOpacity\": 0.5,\n",
    "    },\n",
    ").add_to(mapa)\n",
    "\n",
    "# Mostrar el mapa\n",
    "mapa"
   ]
  },
  {
   "cell_type": "code",
   "execution_count": 5,
   "id": "9effb483-cd9e-443f-b8c4-3e3b54d03c8c",
   "metadata": {},
   "outputs": [
    {
     "data": {
      "text/plain": [
       "<folium.features.GeoJson at 0x13342faa0>"
      ]
     },
     "execution_count": 5,
     "metadata": {},
     "output_type": "execute_result"
    }
   ],
   "source": [
    "output_directory_base = \"../data/parques_nacionales\"\n",
    "name = \"data_parques\"\n",
    "mn_df = geopandas.read_file(os.path.join(output_directory_base, name + \".shp\"))\n",
    "mapa_mn = folium.Map(location=[-33.397629, -71.132279], zoom_start=10)\n",
    "\n",
    "folium.GeoJson(\n",
    "    mn_df[[\"NOMBRE\", \"geometry\"]],\n",
    "    style_function=lambda x: {\n",
    "        \"fillColor\": \"red\",\n",
    "        \"color\": \"black\",\n",
    "        \"weight\": 2.5,\n",
    "        \"fillOpacity\": 0.5,\n",
    "    },\n",
    ").add_to(mapa_mn)"
   ]
  },
  {
   "cell_type": "code",
   "execution_count": null,
   "id": "4a5d9e17-8a73-4ffe-a5ac-52f79eaab2b8",
   "metadata": {},
   "outputs": [],
   "source": [
    "mapa_mn"
   ]
  },
  {
   "cell_type": "code",
   "execution_count": 3,
   "id": "bc83271d-dce3-46a8-bb44-30fa62ce3beb",
   "metadata": {},
   "outputs": [],
   "source": [
    "path = \"../data/uso_suelos/\"\n",
    "filename = \"05_region_valparaiso.shp\"\n",
    "\n",
    "# Load files\n",
    "original_df = geopandas.read_file(os.path.join(path, filename))"
   ]
  },
  {
   "cell_type": "code",
   "execution_count": 16,
   "id": "5513ed43-1646-489e-a509-5702d523248c",
   "metadata": {},
   "outputs": [
    {
     "data": {
      "text/plain": [
       "<folium.features.GeoJson at 0x11f0cb860>"
      ]
     },
     "execution_count": 16,
     "metadata": {},
     "output_type": "execute_result"
    }
   ],
   "source": [
    "mapa_suelos = folium.Map(location=[-33.397629, -71.132279], zoom_start=10)\n",
    "\n",
    "folium.GeoJson(\n",
    "    suelos_df[:1000],\n",
    "    style_function=lambda x: {\n",
    "        \"fillColor\": \"red\",\n",
    "        \"color\": \"black\",\n",
    "        \"weight\": 2.5,\n",
    "        \"fillOpacity\": 0.5,\n",
    "    },\n",
    ").add_to(mapa_suelos)"
   ]
  },
  {
   "cell_type": "code",
   "execution_count": null,
   "id": "4659befb-7c67-4ba4-b3f9-4f5ec8c57499",
   "metadata": {},
   "outputs": [],
   "source": [
    "mapa_suelos"
   ]
  },
  {
   "cell_type": "code",
   "execution_count": 4,
   "id": "a70f618f-a368-460d-9350-db6da5246c87",
   "metadata": {},
   "outputs": [],
   "source": [
    "df_demo = geopandas.read_file(\"../data/demo_data/doc.kml\")"
   ]
  },
  {
   "cell_type": "code",
   "execution_count": 6,
   "id": "c9654e66-405b-467b-9e85-6b762e6ef9a9",
   "metadata": {},
   "outputs": [],
   "source": [
    "suelos_df = original_df[[\"USO_TIERRA\", \"USO\", \"NOM_REG\", \"NOM_COM\", \"geometry\"]]"
   ]
  },
  {
   "cell_type": "code",
   "execution_count": 9,
   "id": "22c1a730-f21f-498b-8698-15b42a971b8e",
   "metadata": {},
   "outputs": [],
   "source": [
    "overlaps = suelos_df[suelos_df.geometry.overlaps(df_demo.iloc[0].geometry)]"
   ]
  },
  {
   "cell_type": "code",
   "execution_count": 18,
   "id": "339a271a-2406-4bf8-a226-38e4c636f7ff",
   "metadata": {},
   "outputs": [],
   "source": [
    "name = \"data_pot_paleon\"\n",
    "output_directory_base = \"../data/potencial_paleontologico/\"\n",
    "\n",
    "# Load files\n",
    "df = geopandas.read_file(os.path.join(output_directory_base, name + \".shp\"))"
   ]
  },
  {
   "cell_type": "code",
   "execution_count": 19,
   "id": "08d52f9d-4d07-4d9a-b797-97a1eb5270c1",
   "metadata": {},
   "outputs": [
    {
     "data": {
      "text/plain": [
       "18300"
      ]
     },
     "execution_count": 19,
     "metadata": {},
     "output_type": "execute_result"
    }
   ],
   "source": []
  },
  {
   "cell_type": "code",
   "execution_count": 20,
   "id": "9e9b8bc4-7db9-4a57-8d8f-5c8b48c3fa9a",
   "metadata": {},
   "outputs": [
    {
     "data": {
      "text/plain": [
       "<folium.features.GeoJson at 0x11f086f00>"
      ]
     },
     "execution_count": 20,
     "metadata": {},
     "output_type": "execute_result"
    }
   ],
   "source": [
    "paleomapa = folium.Map(location=[-33.397629, -71.132279], zoom_start=10)\n",
    "\n",
    "folium.GeoJson(\n",
    "    df,\n",
    "    style_function=lambda x: {\n",
    "        \"fillColor\": \"red\",\n",
    "        \"color\": \"black\",\n",
    "        \"weight\": 2.5,\n",
    "        \"fillOpacity\": 0.5,\n",
    "    },\n",
    ").add_to(paleomapa)"
   ]
  },
  {
   "cell_type": "code",
   "execution_count": null,
   "id": "16302051-2498-416c-b39f-b64992fc51cf",
   "metadata": {},
   "outputs": [],
   "source": [
    "paleomapa"
   ]
  }
 ],
 "metadata": {
  "kernelspec": {
   "display_name": "Python 3 (ipykernel)",
   "language": "python",
   "name": "python3"
  },
  "language_info": {
   "codemirror_mode": {
    "name": "ipython",
    "version": 3
   },
   "file_extension": ".py",
   "mimetype": "text/x-python",
   "name": "python",
   "nbconvert_exporter": "python",
   "pygments_lexer": "ipython3",
   "version": "3.12.4"
  }
 },
 "nbformat": 4,
 "nbformat_minor": 5
}
